{
 "cells": [
  {
   "cell_type": "code",
   "execution_count": 1,
   "id": "9149b46f",
   "metadata": {},
   "outputs": [],
   "source": [
    "import pandas as pd\n",
    "import numpy as np\n",
    "import seaborn as sns\n",
    "import matplotlib.pyplot as plt\n",
    "%matplotlib inline\n",
    "sns.set(style='darkgrid')\n"
   ]
  },
  {
   "cell_type": "code",
   "execution_count": 2,
   "id": "74b93ab3",
   "metadata": {},
   "outputs": [
    {
     "data": {
      "text/html": [
       "<div>\n",
       "<style scoped>\n",
       "    .dataframe tbody tr th:only-of-type {\n",
       "        vertical-align: middle;\n",
       "    }\n",
       "\n",
       "    .dataframe tbody tr th {\n",
       "        vertical-align: top;\n",
       "    }\n",
       "\n",
       "    .dataframe thead th {\n",
       "        text-align: right;\n",
       "    }\n",
       "</style>\n",
       "<table border=\"1\" class=\"dataframe\">\n",
       "  <thead>\n",
       "    <tr style=\"text-align: right;\">\n",
       "      <th></th>\n",
       "      <th>Date</th>\n",
       "      <th>Rented Bike Count</th>\n",
       "      <th>Hour</th>\n",
       "      <th>Temperature(°C)</th>\n",
       "      <th>Humidity(%)</th>\n",
       "      <th>Wind speed (m/s)</th>\n",
       "      <th>Visibility (10m)</th>\n",
       "      <th>Dew point temperature(°C)</th>\n",
       "      <th>Solar Radiation (MJ/m2)</th>\n",
       "      <th>Rainfall(mm)</th>\n",
       "      <th>Snowfall (cm)</th>\n",
       "      <th>Seasons</th>\n",
       "      <th>Holiday</th>\n",
       "      <th>Functioning Day</th>\n",
       "    </tr>\n",
       "  </thead>\n",
       "  <tbody>\n",
       "    <tr>\n",
       "      <th>0</th>\n",
       "      <td>01/12/2017</td>\n",
       "      <td>254</td>\n",
       "      <td>0</td>\n",
       "      <td>-5.2</td>\n",
       "      <td>37</td>\n",
       "      <td>2.2</td>\n",
       "      <td>2000</td>\n",
       "      <td>-17.6</td>\n",
       "      <td>0.00</td>\n",
       "      <td>0.0</td>\n",
       "      <td>0.0</td>\n",
       "      <td>Winter</td>\n",
       "      <td>No Holiday</td>\n",
       "      <td>Yes</td>\n",
       "    </tr>\n",
       "    <tr>\n",
       "      <th>1</th>\n",
       "      <td>01/12/2017</td>\n",
       "      <td>204</td>\n",
       "      <td>1</td>\n",
       "      <td>-5.5</td>\n",
       "      <td>38</td>\n",
       "      <td>0.8</td>\n",
       "      <td>2000</td>\n",
       "      <td>-17.6</td>\n",
       "      <td>0.00</td>\n",
       "      <td>0.0</td>\n",
       "      <td>0.0</td>\n",
       "      <td>Winter</td>\n",
       "      <td>No Holiday</td>\n",
       "      <td>Yes</td>\n",
       "    </tr>\n",
       "    <tr>\n",
       "      <th>2</th>\n",
       "      <td>01/12/2017</td>\n",
       "      <td>173</td>\n",
       "      <td>2</td>\n",
       "      <td>-6.0</td>\n",
       "      <td>39</td>\n",
       "      <td>1.0</td>\n",
       "      <td>2000</td>\n",
       "      <td>-17.7</td>\n",
       "      <td>0.00</td>\n",
       "      <td>0.0</td>\n",
       "      <td>0.0</td>\n",
       "      <td>Winter</td>\n",
       "      <td>No Holiday</td>\n",
       "      <td>Yes</td>\n",
       "    </tr>\n",
       "    <tr>\n",
       "      <th>3</th>\n",
       "      <td>01/12/2017</td>\n",
       "      <td>107</td>\n",
       "      <td>3</td>\n",
       "      <td>-6.2</td>\n",
       "      <td>40</td>\n",
       "      <td>0.9</td>\n",
       "      <td>2000</td>\n",
       "      <td>-17.6</td>\n",
       "      <td>0.00</td>\n",
       "      <td>0.0</td>\n",
       "      <td>0.0</td>\n",
       "      <td>Winter</td>\n",
       "      <td>No Holiday</td>\n",
       "      <td>Yes</td>\n",
       "    </tr>\n",
       "    <tr>\n",
       "      <th>4</th>\n",
       "      <td>01/12/2017</td>\n",
       "      <td>78</td>\n",
       "      <td>4</td>\n",
       "      <td>-6.0</td>\n",
       "      <td>36</td>\n",
       "      <td>2.3</td>\n",
       "      <td>2000</td>\n",
       "      <td>-18.6</td>\n",
       "      <td>0.00</td>\n",
       "      <td>0.0</td>\n",
       "      <td>0.0</td>\n",
       "      <td>Winter</td>\n",
       "      <td>No Holiday</td>\n",
       "      <td>Yes</td>\n",
       "    </tr>\n",
       "    <tr>\n",
       "      <th>5</th>\n",
       "      <td>01/12/2017</td>\n",
       "      <td>100</td>\n",
       "      <td>5</td>\n",
       "      <td>-6.4</td>\n",
       "      <td>37</td>\n",
       "      <td>1.5</td>\n",
       "      <td>2000</td>\n",
       "      <td>-18.7</td>\n",
       "      <td>0.00</td>\n",
       "      <td>0.0</td>\n",
       "      <td>0.0</td>\n",
       "      <td>Winter</td>\n",
       "      <td>No Holiday</td>\n",
       "      <td>Yes</td>\n",
       "    </tr>\n",
       "    <tr>\n",
       "      <th>6</th>\n",
       "      <td>01/12/2017</td>\n",
       "      <td>181</td>\n",
       "      <td>6</td>\n",
       "      <td>-6.6</td>\n",
       "      <td>35</td>\n",
       "      <td>1.3</td>\n",
       "      <td>2000</td>\n",
       "      <td>-19.5</td>\n",
       "      <td>0.00</td>\n",
       "      <td>0.0</td>\n",
       "      <td>0.0</td>\n",
       "      <td>Winter</td>\n",
       "      <td>No Holiday</td>\n",
       "      <td>Yes</td>\n",
       "    </tr>\n",
       "    <tr>\n",
       "      <th>7</th>\n",
       "      <td>01/12/2017</td>\n",
       "      <td>460</td>\n",
       "      <td>7</td>\n",
       "      <td>-7.4</td>\n",
       "      <td>38</td>\n",
       "      <td>0.9</td>\n",
       "      <td>2000</td>\n",
       "      <td>-19.3</td>\n",
       "      <td>0.00</td>\n",
       "      <td>0.0</td>\n",
       "      <td>0.0</td>\n",
       "      <td>Winter</td>\n",
       "      <td>No Holiday</td>\n",
       "      <td>Yes</td>\n",
       "    </tr>\n",
       "    <tr>\n",
       "      <th>8</th>\n",
       "      <td>01/12/2017</td>\n",
       "      <td>930</td>\n",
       "      <td>8</td>\n",
       "      <td>-7.6</td>\n",
       "      <td>37</td>\n",
       "      <td>1.1</td>\n",
       "      <td>2000</td>\n",
       "      <td>-19.8</td>\n",
       "      <td>0.01</td>\n",
       "      <td>0.0</td>\n",
       "      <td>0.0</td>\n",
       "      <td>Winter</td>\n",
       "      <td>No Holiday</td>\n",
       "      <td>Yes</td>\n",
       "    </tr>\n",
       "    <tr>\n",
       "      <th>9</th>\n",
       "      <td>01/12/2017</td>\n",
       "      <td>490</td>\n",
       "      <td>9</td>\n",
       "      <td>-6.5</td>\n",
       "      <td>27</td>\n",
       "      <td>0.5</td>\n",
       "      <td>1928</td>\n",
       "      <td>-22.4</td>\n",
       "      <td>0.23</td>\n",
       "      <td>0.0</td>\n",
       "      <td>0.0</td>\n",
       "      <td>Winter</td>\n",
       "      <td>No Holiday</td>\n",
       "      <td>Yes</td>\n",
       "    </tr>\n",
       "    <tr>\n",
       "      <th>10</th>\n",
       "      <td>01/12/2017</td>\n",
       "      <td>339</td>\n",
       "      <td>10</td>\n",
       "      <td>-3.5</td>\n",
       "      <td>24</td>\n",
       "      <td>1.2</td>\n",
       "      <td>1996</td>\n",
       "      <td>-21.2</td>\n",
       "      <td>0.65</td>\n",
       "      <td>0.0</td>\n",
       "      <td>0.0</td>\n",
       "      <td>Winter</td>\n",
       "      <td>No Holiday</td>\n",
       "      <td>Yes</td>\n",
       "    </tr>\n",
       "    <tr>\n",
       "      <th>11</th>\n",
       "      <td>01/12/2017</td>\n",
       "      <td>360</td>\n",
       "      <td>11</td>\n",
       "      <td>-0.5</td>\n",
       "      <td>21</td>\n",
       "      <td>1.3</td>\n",
       "      <td>1936</td>\n",
       "      <td>-20.2</td>\n",
       "      <td>0.94</td>\n",
       "      <td>0.0</td>\n",
       "      <td>0.0</td>\n",
       "      <td>Winter</td>\n",
       "      <td>No Holiday</td>\n",
       "      <td>Yes</td>\n",
       "    </tr>\n",
       "    <tr>\n",
       "      <th>12</th>\n",
       "      <td>01/12/2017</td>\n",
       "      <td>449</td>\n",
       "      <td>12</td>\n",
       "      <td>1.7</td>\n",
       "      <td>23</td>\n",
       "      <td>1.4</td>\n",
       "      <td>2000</td>\n",
       "      <td>-17.2</td>\n",
       "      <td>1.11</td>\n",
       "      <td>0.0</td>\n",
       "      <td>0.0</td>\n",
       "      <td>Winter</td>\n",
       "      <td>No Holiday</td>\n",
       "      <td>Yes</td>\n",
       "    </tr>\n",
       "    <tr>\n",
       "      <th>13</th>\n",
       "      <td>01/12/2017</td>\n",
       "      <td>451</td>\n",
       "      <td>13</td>\n",
       "      <td>2.4</td>\n",
       "      <td>25</td>\n",
       "      <td>1.6</td>\n",
       "      <td>2000</td>\n",
       "      <td>-15.6</td>\n",
       "      <td>1.16</td>\n",
       "      <td>0.0</td>\n",
       "      <td>0.0</td>\n",
       "      <td>Winter</td>\n",
       "      <td>No Holiday</td>\n",
       "      <td>Yes</td>\n",
       "    </tr>\n",
       "    <tr>\n",
       "      <th>14</th>\n",
       "      <td>01/12/2017</td>\n",
       "      <td>447</td>\n",
       "      <td>14</td>\n",
       "      <td>3.0</td>\n",
       "      <td>26</td>\n",
       "      <td>2.0</td>\n",
       "      <td>2000</td>\n",
       "      <td>-14.6</td>\n",
       "      <td>1.01</td>\n",
       "      <td>0.0</td>\n",
       "      <td>0.0</td>\n",
       "      <td>Winter</td>\n",
       "      <td>No Holiday</td>\n",
       "      <td>Yes</td>\n",
       "    </tr>\n",
       "    <tr>\n",
       "      <th>15</th>\n",
       "      <td>01/12/2017</td>\n",
       "      <td>463</td>\n",
       "      <td>15</td>\n",
       "      <td>2.1</td>\n",
       "      <td>36</td>\n",
       "      <td>3.2</td>\n",
       "      <td>2000</td>\n",
       "      <td>-11.4</td>\n",
       "      <td>0.54</td>\n",
       "      <td>0.0</td>\n",
       "      <td>0.0</td>\n",
       "      <td>Winter</td>\n",
       "      <td>No Holiday</td>\n",
       "      <td>Yes</td>\n",
       "    </tr>\n",
       "    <tr>\n",
       "      <th>16</th>\n",
       "      <td>01/12/2017</td>\n",
       "      <td>484</td>\n",
       "      <td>16</td>\n",
       "      <td>1.2</td>\n",
       "      <td>54</td>\n",
       "      <td>4.2</td>\n",
       "      <td>793</td>\n",
       "      <td>-7.0</td>\n",
       "      <td>0.24</td>\n",
       "      <td>0.0</td>\n",
       "      <td>0.0</td>\n",
       "      <td>Winter</td>\n",
       "      <td>No Holiday</td>\n",
       "      <td>Yes</td>\n",
       "    </tr>\n",
       "    <tr>\n",
       "      <th>17</th>\n",
       "      <td>01/12/2017</td>\n",
       "      <td>555</td>\n",
       "      <td>17</td>\n",
       "      <td>0.8</td>\n",
       "      <td>58</td>\n",
       "      <td>1.6</td>\n",
       "      <td>2000</td>\n",
       "      <td>-6.5</td>\n",
       "      <td>0.08</td>\n",
       "      <td>0.0</td>\n",
       "      <td>0.0</td>\n",
       "      <td>Winter</td>\n",
       "      <td>No Holiday</td>\n",
       "      <td>Yes</td>\n",
       "    </tr>\n",
       "    <tr>\n",
       "      <th>18</th>\n",
       "      <td>01/12/2017</td>\n",
       "      <td>862</td>\n",
       "      <td>18</td>\n",
       "      <td>0.6</td>\n",
       "      <td>66</td>\n",
       "      <td>1.4</td>\n",
       "      <td>2000</td>\n",
       "      <td>-5.0</td>\n",
       "      <td>0.00</td>\n",
       "      <td>0.0</td>\n",
       "      <td>0.0</td>\n",
       "      <td>Winter</td>\n",
       "      <td>No Holiday</td>\n",
       "      <td>Yes</td>\n",
       "    </tr>\n",
       "    <tr>\n",
       "      <th>19</th>\n",
       "      <td>01/12/2017</td>\n",
       "      <td>600</td>\n",
       "      <td>19</td>\n",
       "      <td>0.0</td>\n",
       "      <td>77</td>\n",
       "      <td>1.7</td>\n",
       "      <td>2000</td>\n",
       "      <td>-3.5</td>\n",
       "      <td>0.00</td>\n",
       "      <td>0.0</td>\n",
       "      <td>0.0</td>\n",
       "      <td>Winter</td>\n",
       "      <td>No Holiday</td>\n",
       "      <td>Yes</td>\n",
       "    </tr>\n",
       "    <tr>\n",
       "      <th>20</th>\n",
       "      <td>01/12/2017</td>\n",
       "      <td>426</td>\n",
       "      <td>20</td>\n",
       "      <td>-0.3</td>\n",
       "      <td>79</td>\n",
       "      <td>1.5</td>\n",
       "      <td>1913</td>\n",
       "      <td>-3.5</td>\n",
       "      <td>0.00</td>\n",
       "      <td>0.0</td>\n",
       "      <td>0.0</td>\n",
       "      <td>Winter</td>\n",
       "      <td>No Holiday</td>\n",
       "      <td>Yes</td>\n",
       "    </tr>\n",
       "    <tr>\n",
       "      <th>21</th>\n",
       "      <td>01/12/2017</td>\n",
       "      <td>405</td>\n",
       "      <td>21</td>\n",
       "      <td>-0.8</td>\n",
       "      <td>81</td>\n",
       "      <td>0.8</td>\n",
       "      <td>1687</td>\n",
       "      <td>-3.6</td>\n",
       "      <td>0.00</td>\n",
       "      <td>0.0</td>\n",
       "      <td>0.0</td>\n",
       "      <td>Winter</td>\n",
       "      <td>No Holiday</td>\n",
       "      <td>Yes</td>\n",
       "    </tr>\n",
       "    <tr>\n",
       "      <th>22</th>\n",
       "      <td>01/12/2017</td>\n",
       "      <td>398</td>\n",
       "      <td>22</td>\n",
       "      <td>-0.9</td>\n",
       "      <td>83</td>\n",
       "      <td>1.5</td>\n",
       "      <td>1380</td>\n",
       "      <td>-3.4</td>\n",
       "      <td>0.00</td>\n",
       "      <td>0.0</td>\n",
       "      <td>0.0</td>\n",
       "      <td>Winter</td>\n",
       "      <td>No Holiday</td>\n",
       "      <td>Yes</td>\n",
       "    </tr>\n",
       "    <tr>\n",
       "      <th>23</th>\n",
       "      <td>01/12/2017</td>\n",
       "      <td>323</td>\n",
       "      <td>23</td>\n",
       "      <td>-1.3</td>\n",
       "      <td>84</td>\n",
       "      <td>1.0</td>\n",
       "      <td>1265</td>\n",
       "      <td>-3.6</td>\n",
       "      <td>0.00</td>\n",
       "      <td>0.0</td>\n",
       "      <td>0.0</td>\n",
       "      <td>Winter</td>\n",
       "      <td>No Holiday</td>\n",
       "      <td>Yes</td>\n",
       "    </tr>\n",
       "    <tr>\n",
       "      <th>24</th>\n",
       "      <td>02/12/2017</td>\n",
       "      <td>328</td>\n",
       "      <td>0</td>\n",
       "      <td>-1.8</td>\n",
       "      <td>87</td>\n",
       "      <td>1.1</td>\n",
       "      <td>994</td>\n",
       "      <td>-3.6</td>\n",
       "      <td>0.00</td>\n",
       "      <td>0.0</td>\n",
       "      <td>0.0</td>\n",
       "      <td>Winter</td>\n",
       "      <td>No Holiday</td>\n",
       "      <td>Yes</td>\n",
       "    </tr>\n",
       "    <tr>\n",
       "      <th>25</th>\n",
       "      <td>02/12/2017</td>\n",
       "      <td>308</td>\n",
       "      <td>1</td>\n",
       "      <td>-2.2</td>\n",
       "      <td>86</td>\n",
       "      <td>0.6</td>\n",
       "      <td>990</td>\n",
       "      <td>-4.2</td>\n",
       "      <td>0.00</td>\n",
       "      <td>0.0</td>\n",
       "      <td>0.0</td>\n",
       "      <td>Winter</td>\n",
       "      <td>No Holiday</td>\n",
       "      <td>Yes</td>\n",
       "    </tr>\n",
       "    <tr>\n",
       "      <th>26</th>\n",
       "      <td>02/12/2017</td>\n",
       "      <td>262</td>\n",
       "      <td>2</td>\n",
       "      <td>-2.9</td>\n",
       "      <td>86</td>\n",
       "      <td>1.5</td>\n",
       "      <td>1256</td>\n",
       "      <td>-4.9</td>\n",
       "      <td>0.00</td>\n",
       "      <td>0.0</td>\n",
       "      <td>0.0</td>\n",
       "      <td>Winter</td>\n",
       "      <td>No Holiday</td>\n",
       "      <td>Yes</td>\n",
       "    </tr>\n",
       "    <tr>\n",
       "      <th>27</th>\n",
       "      <td>02/12/2017</td>\n",
       "      <td>167</td>\n",
       "      <td>3</td>\n",
       "      <td>-3.5</td>\n",
       "      <td>81</td>\n",
       "      <td>2.2</td>\n",
       "      <td>1221</td>\n",
       "      <td>-6.2</td>\n",
       "      <td>0.00</td>\n",
       "      <td>0.0</td>\n",
       "      <td>0.0</td>\n",
       "      <td>Winter</td>\n",
       "      <td>No Holiday</td>\n",
       "      <td>Yes</td>\n",
       "    </tr>\n",
       "    <tr>\n",
       "      <th>28</th>\n",
       "      <td>02/12/2017</td>\n",
       "      <td>89</td>\n",
       "      <td>4</td>\n",
       "      <td>-3.8</td>\n",
       "      <td>79</td>\n",
       "      <td>2.0</td>\n",
       "      <td>1167</td>\n",
       "      <td>-6.9</td>\n",
       "      <td>0.00</td>\n",
       "      <td>0.0</td>\n",
       "      <td>0.0</td>\n",
       "      <td>Winter</td>\n",
       "      <td>No Holiday</td>\n",
       "      <td>Yes</td>\n",
       "    </tr>\n",
       "    <tr>\n",
       "      <th>29</th>\n",
       "      <td>02/12/2017</td>\n",
       "      <td>79</td>\n",
       "      <td>5</td>\n",
       "      <td>-4.0</td>\n",
       "      <td>79</td>\n",
       "      <td>1.5</td>\n",
       "      <td>1202</td>\n",
       "      <td>-7.1</td>\n",
       "      <td>0.00</td>\n",
       "      <td>0.0</td>\n",
       "      <td>0.0</td>\n",
       "      <td>Winter</td>\n",
       "      <td>No Holiday</td>\n",
       "      <td>Yes</td>\n",
       "    </tr>\n",
       "    <tr>\n",
       "      <th>30</th>\n",
       "      <td>02/12/2017</td>\n",
       "      <td>70</td>\n",
       "      <td>6</td>\n",
       "      <td>-4.3</td>\n",
       "      <td>82</td>\n",
       "      <td>2.1</td>\n",
       "      <td>1178</td>\n",
       "      <td>-6.9</td>\n",
       "      <td>0.00</td>\n",
       "      <td>0.0</td>\n",
       "      <td>0.0</td>\n",
       "      <td>Winter</td>\n",
       "      <td>No Holiday</td>\n",
       "      <td>Yes</td>\n",
       "    </tr>\n",
       "    <tr>\n",
       "      <th>31</th>\n",
       "      <td>02/12/2017</td>\n",
       "      <td>146</td>\n",
       "      <td>7</td>\n",
       "      <td>-4.4</td>\n",
       "      <td>81</td>\n",
       "      <td>2.5</td>\n",
       "      <td>1276</td>\n",
       "      <td>-7.1</td>\n",
       "      <td>0.00</td>\n",
       "      <td>0.0</td>\n",
       "      <td>0.0</td>\n",
       "      <td>Winter</td>\n",
       "      <td>No Holiday</td>\n",
       "      <td>Yes</td>\n",
       "    </tr>\n",
       "    <tr>\n",
       "      <th>32</th>\n",
       "      <td>02/12/2017</td>\n",
       "      <td>219</td>\n",
       "      <td>8</td>\n",
       "      <td>-4.2</td>\n",
       "      <td>79</td>\n",
       "      <td>2.1</td>\n",
       "      <td>1436</td>\n",
       "      <td>-7.3</td>\n",
       "      <td>0.01</td>\n",
       "      <td>0.0</td>\n",
       "      <td>0.0</td>\n",
       "      <td>Winter</td>\n",
       "      <td>No Holiday</td>\n",
       "      <td>Yes</td>\n",
       "    </tr>\n",
       "    <tr>\n",
       "      <th>33</th>\n",
       "      <td>02/12/2017</td>\n",
       "      <td>328</td>\n",
       "      <td>9</td>\n",
       "      <td>-2.9</td>\n",
       "      <td>68</td>\n",
       "      <td>1.6</td>\n",
       "      <td>1487</td>\n",
       "      <td>-7.9</td>\n",
       "      <td>0.30</td>\n",
       "      <td>0.0</td>\n",
       "      <td>0.0</td>\n",
       "      <td>Winter</td>\n",
       "      <td>No Holiday</td>\n",
       "      <td>Yes</td>\n",
       "    </tr>\n",
       "    <tr>\n",
       "      <th>34</th>\n",
       "      <td>02/12/2017</td>\n",
       "      <td>334</td>\n",
       "      <td>10</td>\n",
       "      <td>-0.4</td>\n",
       "      <td>57</td>\n",
       "      <td>1.6</td>\n",
       "      <td>1309</td>\n",
       "      <td>-7.8</td>\n",
       "      <td>0.80</td>\n",
       "      <td>0.0</td>\n",
       "      <td>0.0</td>\n",
       "      <td>Winter</td>\n",
       "      <td>No Holiday</td>\n",
       "      <td>Yes</td>\n",
       "    </tr>\n",
       "    <tr>\n",
       "      <th>35</th>\n",
       "      <td>02/12/2017</td>\n",
       "      <td>388</td>\n",
       "      <td>11</td>\n",
       "      <td>1.9</td>\n",
       "      <td>49</td>\n",
       "      <td>1.8</td>\n",
       "      <td>1406</td>\n",
       "      <td>-7.7</td>\n",
       "      <td>1.00</td>\n",
       "      <td>0.0</td>\n",
       "      <td>0.0</td>\n",
       "      <td>Winter</td>\n",
       "      <td>No Holiday</td>\n",
       "      <td>Yes</td>\n",
       "    </tr>\n",
       "    <tr>\n",
       "      <th>36</th>\n",
       "      <td>02/12/2017</td>\n",
       "      <td>479</td>\n",
       "      <td>12</td>\n",
       "      <td>4.3</td>\n",
       "      <td>41</td>\n",
       "      <td>1.3</td>\n",
       "      <td>1666</td>\n",
       "      <td>-7.8</td>\n",
       "      <td>1.09</td>\n",
       "      <td>0.0</td>\n",
       "      <td>0.0</td>\n",
       "      <td>Winter</td>\n",
       "      <td>No Holiday</td>\n",
       "      <td>Yes</td>\n",
       "    </tr>\n",
       "    <tr>\n",
       "      <th>37</th>\n",
       "      <td>02/12/2017</td>\n",
       "      <td>606</td>\n",
       "      <td>13</td>\n",
       "      <td>6.0</td>\n",
       "      <td>36</td>\n",
       "      <td>1.8</td>\n",
       "      <td>1780</td>\n",
       "      <td>-7.9</td>\n",
       "      <td>1.12</td>\n",
       "      <td>0.0</td>\n",
       "      <td>0.0</td>\n",
       "      <td>Winter</td>\n",
       "      <td>No Holiday</td>\n",
       "      <td>Yes</td>\n",
       "    </tr>\n",
       "    <tr>\n",
       "      <th>38</th>\n",
       "      <td>02/12/2017</td>\n",
       "      <td>611</td>\n",
       "      <td>14</td>\n",
       "      <td>7.3</td>\n",
       "      <td>35</td>\n",
       "      <td>1.3</td>\n",
       "      <td>1955</td>\n",
       "      <td>-7.1</td>\n",
       "      <td>0.99</td>\n",
       "      <td>0.0</td>\n",
       "      <td>0.0</td>\n",
       "      <td>Winter</td>\n",
       "      <td>No Holiday</td>\n",
       "      <td>Yes</td>\n",
       "    </tr>\n",
       "    <tr>\n",
       "      <th>39</th>\n",
       "      <td>02/12/2017</td>\n",
       "      <td>589</td>\n",
       "      <td>15</td>\n",
       "      <td>7.6</td>\n",
       "      <td>41</td>\n",
       "      <td>2.3</td>\n",
       "      <td>1953</td>\n",
       "      <td>-4.8</td>\n",
       "      <td>0.74</td>\n",
       "      <td>0.0</td>\n",
       "      <td>0.0</td>\n",
       "      <td>Winter</td>\n",
       "      <td>No Holiday</td>\n",
       "      <td>Yes</td>\n",
       "    </tr>\n",
       "    <tr>\n",
       "      <th>40</th>\n",
       "      <td>02/12/2017</td>\n",
       "      <td>618</td>\n",
       "      <td>16</td>\n",
       "      <td>6.4</td>\n",
       "      <td>48</td>\n",
       "      <td>2.6</td>\n",
       "      <td>1945</td>\n",
       "      <td>-3.8</td>\n",
       "      <td>0.22</td>\n",
       "      <td>0.0</td>\n",
       "      <td>0.0</td>\n",
       "      <td>Winter</td>\n",
       "      <td>No Holiday</td>\n",
       "      <td>Yes</td>\n",
       "    </tr>\n",
       "    <tr>\n",
       "      <th>41</th>\n",
       "      <td>02/12/2017</td>\n",
       "      <td>572</td>\n",
       "      <td>17</td>\n",
       "      <td>6.0</td>\n",
       "      <td>51</td>\n",
       "      <td>2.5</td>\n",
       "      <td>1891</td>\n",
       "      <td>-3.3</td>\n",
       "      <td>0.06</td>\n",
       "      <td>0.0</td>\n",
       "      <td>0.0</td>\n",
       "      <td>Winter</td>\n",
       "      <td>No Holiday</td>\n",
       "      <td>Yes</td>\n",
       "    </tr>\n",
       "    <tr>\n",
       "      <th>42</th>\n",
       "      <td>02/12/2017</td>\n",
       "      <td>489</td>\n",
       "      <td>18</td>\n",
       "      <td>5.5</td>\n",
       "      <td>53</td>\n",
       "      <td>1.5</td>\n",
       "      <td>1697</td>\n",
       "      <td>-3.3</td>\n",
       "      <td>0.00</td>\n",
       "      <td>0.0</td>\n",
       "      <td>0.0</td>\n",
       "      <td>Winter</td>\n",
       "      <td>No Holiday</td>\n",
       "      <td>Yes</td>\n",
       "    </tr>\n",
       "    <tr>\n",
       "      <th>43</th>\n",
       "      <td>02/12/2017</td>\n",
       "      <td>385</td>\n",
       "      <td>19</td>\n",
       "      <td>5.0</td>\n",
       "      <td>52</td>\n",
       "      <td>2.3</td>\n",
       "      <td>1666</td>\n",
       "      <td>-4.0</td>\n",
       "      <td>0.00</td>\n",
       "      <td>0.0</td>\n",
       "      <td>0.0</td>\n",
       "      <td>Winter</td>\n",
       "      <td>No Holiday</td>\n",
       "      <td>Yes</td>\n",
       "    </tr>\n",
       "    <tr>\n",
       "      <th>44</th>\n",
       "      <td>02/12/2017</td>\n",
       "      <td>359</td>\n",
       "      <td>20</td>\n",
       "      <td>4.6</td>\n",
       "      <td>51</td>\n",
       "      <td>1.2</td>\n",
       "      <td>1585</td>\n",
       "      <td>-4.6</td>\n",
       "      <td>0.00</td>\n",
       "      <td>0.0</td>\n",
       "      <td>0.0</td>\n",
       "      <td>Winter</td>\n",
       "      <td>No Holiday</td>\n",
       "      <td>Yes</td>\n",
       "    </tr>\n",
       "    <tr>\n",
       "      <th>45</th>\n",
       "      <td>02/12/2017</td>\n",
       "      <td>377</td>\n",
       "      <td>21</td>\n",
       "      <td>4.1</td>\n",
       "      <td>55</td>\n",
       "      <td>1.2</td>\n",
       "      <td>1448</td>\n",
       "      <td>-4.1</td>\n",
       "      <td>0.00</td>\n",
       "      <td>0.0</td>\n",
       "      <td>0.0</td>\n",
       "      <td>Winter</td>\n",
       "      <td>No Holiday</td>\n",
       "      <td>Yes</td>\n",
       "    </tr>\n",
       "    <tr>\n",
       "      <th>46</th>\n",
       "      <td>02/12/2017</td>\n",
       "      <td>354</td>\n",
       "      <td>22</td>\n",
       "      <td>3.5</td>\n",
       "      <td>54</td>\n",
       "      <td>1.5</td>\n",
       "      <td>1446</td>\n",
       "      <td>-4.9</td>\n",
       "      <td>0.00</td>\n",
       "      <td>0.0</td>\n",
       "      <td>0.0</td>\n",
       "      <td>Winter</td>\n",
       "      <td>No Holiday</td>\n",
       "      <td>Yes</td>\n",
       "    </tr>\n",
       "    <tr>\n",
       "      <th>47</th>\n",
       "      <td>02/12/2017</td>\n",
       "      <td>366</td>\n",
       "      <td>23</td>\n",
       "      <td>4.0</td>\n",
       "      <td>56</td>\n",
       "      <td>1.0</td>\n",
       "      <td>1352</td>\n",
       "      <td>-4.0</td>\n",
       "      <td>0.00</td>\n",
       "      <td>0.0</td>\n",
       "      <td>0.0</td>\n",
       "      <td>Winter</td>\n",
       "      <td>No Holiday</td>\n",
       "      <td>Yes</td>\n",
       "    </tr>\n",
       "    <tr>\n",
       "      <th>48</th>\n",
       "      <td>03/12/2017</td>\n",
       "      <td>342</td>\n",
       "      <td>0</td>\n",
       "      <td>4.0</td>\n",
       "      <td>58</td>\n",
       "      <td>1.4</td>\n",
       "      <td>1296</td>\n",
       "      <td>-3.5</td>\n",
       "      <td>0.00</td>\n",
       "      <td>0.0</td>\n",
       "      <td>0.0</td>\n",
       "      <td>Winter</td>\n",
       "      <td>No Holiday</td>\n",
       "      <td>Yes</td>\n",
       "    </tr>\n",
       "    <tr>\n",
       "      <th>49</th>\n",
       "      <td>03/12/2017</td>\n",
       "      <td>227</td>\n",
       "      <td>1</td>\n",
       "      <td>3.9</td>\n",
       "      <td>69</td>\n",
       "      <td>1.7</td>\n",
       "      <td>485</td>\n",
       "      <td>-1.2</td>\n",
       "      <td>0.00</td>\n",
       "      <td>0.0</td>\n",
       "      <td>0.0</td>\n",
       "      <td>Winter</td>\n",
       "      <td>No Holiday</td>\n",
       "      <td>Yes</td>\n",
       "    </tr>\n",
       "    <tr>\n",
       "      <th>50</th>\n",
       "      <td>03/12/2017</td>\n",
       "      <td>228</td>\n",
       "      <td>2</td>\n",
       "      <td>3.3</td>\n",
       "      <td>79</td>\n",
       "      <td>1.4</td>\n",
       "      <td>830</td>\n",
       "      <td>0.0</td>\n",
       "      <td>0.00</td>\n",
       "      <td>0.0</td>\n",
       "      <td>0.0</td>\n",
       "      <td>Winter</td>\n",
       "      <td>No Holiday</td>\n",
       "      <td>Yes</td>\n",
       "    </tr>\n",
       "    <tr>\n",
       "      <th>51</th>\n",
       "      <td>03/12/2017</td>\n",
       "      <td>117</td>\n",
       "      <td>3</td>\n",
       "      <td>3.4</td>\n",
       "      <td>71</td>\n",
       "      <td>1.6</td>\n",
       "      <td>1011</td>\n",
       "      <td>-1.3</td>\n",
       "      <td>0.00</td>\n",
       "      <td>0.5</td>\n",
       "      <td>0.0</td>\n",
       "      <td>Winter</td>\n",
       "      <td>No Holiday</td>\n",
       "      <td>Yes</td>\n",
       "    </tr>\n",
       "    <tr>\n",
       "      <th>52</th>\n",
       "      <td>03/12/2017</td>\n",
       "      <td>76</td>\n",
       "      <td>4</td>\n",
       "      <td>3.5</td>\n",
       "      <td>73</td>\n",
       "      <td>1.0</td>\n",
       "      <td>1060</td>\n",
       "      <td>-0.8</td>\n",
       "      <td>0.00</td>\n",
       "      <td>0.0</td>\n",
       "      <td>0.0</td>\n",
       "      <td>Winter</td>\n",
       "      <td>No Holiday</td>\n",
       "      <td>Yes</td>\n",
       "    </tr>\n",
       "    <tr>\n",
       "      <th>53</th>\n",
       "      <td>03/12/2017</td>\n",
       "      <td>32</td>\n",
       "      <td>5</td>\n",
       "      <td>3.9</td>\n",
       "      <td>75</td>\n",
       "      <td>1.9</td>\n",
       "      <td>914</td>\n",
       "      <td>-0.1</td>\n",
       "      <td>0.00</td>\n",
       "      <td>0.0</td>\n",
       "      <td>0.0</td>\n",
       "      <td>Winter</td>\n",
       "      <td>No Holiday</td>\n",
       "      <td>Yes</td>\n",
       "    </tr>\n",
       "    <tr>\n",
       "      <th>54</th>\n",
       "      <td>03/12/2017</td>\n",
       "      <td>13</td>\n",
       "      <td>6</td>\n",
       "      <td>3.4</td>\n",
       "      <td>86</td>\n",
       "      <td>2.5</td>\n",
       "      <td>278</td>\n",
       "      <td>1.2</td>\n",
       "      <td>0.00</td>\n",
       "      <td>1.0</td>\n",
       "      <td>0.0</td>\n",
       "      <td>Winter</td>\n",
       "      <td>No Holiday</td>\n",
       "      <td>Yes</td>\n",
       "    </tr>\n",
       "    <tr>\n",
       "      <th>55</th>\n",
       "      <td>03/12/2017</td>\n",
       "      <td>22</td>\n",
       "      <td>7</td>\n",
       "      <td>3.1</td>\n",
       "      <td>91</td>\n",
       "      <td>1.2</td>\n",
       "      <td>129</td>\n",
       "      <td>1.7</td>\n",
       "      <td>0.00</td>\n",
       "      <td>0.0</td>\n",
       "      <td>0.0</td>\n",
       "      <td>Winter</td>\n",
       "      <td>No Holiday</td>\n",
       "      <td>Yes</td>\n",
       "    </tr>\n",
       "    <tr>\n",
       "      <th>56</th>\n",
       "      <td>03/12/2017</td>\n",
       "      <td>85</td>\n",
       "      <td>8</td>\n",
       "      <td>3.2</td>\n",
       "      <td>92</td>\n",
       "      <td>1.8</td>\n",
       "      <td>244</td>\n",
       "      <td>2.0</td>\n",
       "      <td>0.00</td>\n",
       "      <td>0.0</td>\n",
       "      <td>0.0</td>\n",
       "      <td>Winter</td>\n",
       "      <td>No Holiday</td>\n",
       "      <td>Yes</td>\n",
       "    </tr>\n",
       "    <tr>\n",
       "      <th>57</th>\n",
       "      <td>03/12/2017</td>\n",
       "      <td>152</td>\n",
       "      <td>9</td>\n",
       "      <td>3.5</td>\n",
       "      <td>91</td>\n",
       "      <td>1.8</td>\n",
       "      <td>231</td>\n",
       "      <td>2.1</td>\n",
       "      <td>0.02</td>\n",
       "      <td>2.5</td>\n",
       "      <td>0.0</td>\n",
       "      <td>Winter</td>\n",
       "      <td>No Holiday</td>\n",
       "      <td>Yes</td>\n",
       "    </tr>\n",
       "    <tr>\n",
       "      <th>58</th>\n",
       "      <td>03/12/2017</td>\n",
       "      <td>200</td>\n",
       "      <td>10</td>\n",
       "      <td>4.4</td>\n",
       "      <td>89</td>\n",
       "      <td>2.2</td>\n",
       "      <td>257</td>\n",
       "      <td>2.7</td>\n",
       "      <td>0.24</td>\n",
       "      <td>0.0</td>\n",
       "      <td>0.0</td>\n",
       "      <td>Winter</td>\n",
       "      <td>No Holiday</td>\n",
       "      <td>Yes</td>\n",
       "    </tr>\n",
       "    <tr>\n",
       "      <th>59</th>\n",
       "      <td>03/12/2017</td>\n",
       "      <td>273</td>\n",
       "      <td>11</td>\n",
       "      <td>5.1</td>\n",
       "      <td>87</td>\n",
       "      <td>1.4</td>\n",
       "      <td>321</td>\n",
       "      <td>3.1</td>\n",
       "      <td>0.25</td>\n",
       "      <td>0.0</td>\n",
       "      <td>0.0</td>\n",
       "      <td>Winter</td>\n",
       "      <td>No Holiday</td>\n",
       "      <td>Yes</td>\n",
       "    </tr>\n",
       "  </tbody>\n",
       "</table>\n",
       "</div>"
      ],
      "text/plain": [
       "          Date  Rented Bike Count  Hour  Temperature(°C)  Humidity(%)  \\\n",
       "0   01/12/2017                254     0             -5.2           37   \n",
       "1   01/12/2017                204     1             -5.5           38   \n",
       "2   01/12/2017                173     2             -6.0           39   \n",
       "3   01/12/2017                107     3             -6.2           40   \n",
       "4   01/12/2017                 78     4             -6.0           36   \n",
       "5   01/12/2017                100     5             -6.4           37   \n",
       "6   01/12/2017                181     6             -6.6           35   \n",
       "7   01/12/2017                460     7             -7.4           38   \n",
       "8   01/12/2017                930     8             -7.6           37   \n",
       "9   01/12/2017                490     9             -6.5           27   \n",
       "10  01/12/2017                339    10             -3.5           24   \n",
       "11  01/12/2017                360    11             -0.5           21   \n",
       "12  01/12/2017                449    12              1.7           23   \n",
       "13  01/12/2017                451    13              2.4           25   \n",
       "14  01/12/2017                447    14              3.0           26   \n",
       "15  01/12/2017                463    15              2.1           36   \n",
       "16  01/12/2017                484    16              1.2           54   \n",
       "17  01/12/2017                555    17              0.8           58   \n",
       "18  01/12/2017                862    18              0.6           66   \n",
       "19  01/12/2017                600    19              0.0           77   \n",
       "20  01/12/2017                426    20             -0.3           79   \n",
       "21  01/12/2017                405    21             -0.8           81   \n",
       "22  01/12/2017                398    22             -0.9           83   \n",
       "23  01/12/2017                323    23             -1.3           84   \n",
       "24  02/12/2017                328     0             -1.8           87   \n",
       "25  02/12/2017                308     1             -2.2           86   \n",
       "26  02/12/2017                262     2             -2.9           86   \n",
       "27  02/12/2017                167     3             -3.5           81   \n",
       "28  02/12/2017                 89     4             -3.8           79   \n",
       "29  02/12/2017                 79     5             -4.0           79   \n",
       "30  02/12/2017                 70     6             -4.3           82   \n",
       "31  02/12/2017                146     7             -4.4           81   \n",
       "32  02/12/2017                219     8             -4.2           79   \n",
       "33  02/12/2017                328     9             -2.9           68   \n",
       "34  02/12/2017                334    10             -0.4           57   \n",
       "35  02/12/2017                388    11              1.9           49   \n",
       "36  02/12/2017                479    12              4.3           41   \n",
       "37  02/12/2017                606    13              6.0           36   \n",
       "38  02/12/2017                611    14              7.3           35   \n",
       "39  02/12/2017                589    15              7.6           41   \n",
       "40  02/12/2017                618    16              6.4           48   \n",
       "41  02/12/2017                572    17              6.0           51   \n",
       "42  02/12/2017                489    18              5.5           53   \n",
       "43  02/12/2017                385    19              5.0           52   \n",
       "44  02/12/2017                359    20              4.6           51   \n",
       "45  02/12/2017                377    21              4.1           55   \n",
       "46  02/12/2017                354    22              3.5           54   \n",
       "47  02/12/2017                366    23              4.0           56   \n",
       "48  03/12/2017                342     0              4.0           58   \n",
       "49  03/12/2017                227     1              3.9           69   \n",
       "50  03/12/2017                228     2              3.3           79   \n",
       "51  03/12/2017                117     3              3.4           71   \n",
       "52  03/12/2017                 76     4              3.5           73   \n",
       "53  03/12/2017                 32     5              3.9           75   \n",
       "54  03/12/2017                 13     6              3.4           86   \n",
       "55  03/12/2017                 22     7              3.1           91   \n",
       "56  03/12/2017                 85     8              3.2           92   \n",
       "57  03/12/2017                152     9              3.5           91   \n",
       "58  03/12/2017                200    10              4.4           89   \n",
       "59  03/12/2017                273    11              5.1           87   \n",
       "\n",
       "    Wind speed (m/s)  Visibility (10m)  Dew point temperature(°C)  \\\n",
       "0                2.2              2000                      -17.6   \n",
       "1                0.8              2000                      -17.6   \n",
       "2                1.0              2000                      -17.7   \n",
       "3                0.9              2000                      -17.6   \n",
       "4                2.3              2000                      -18.6   \n",
       "5                1.5              2000                      -18.7   \n",
       "6                1.3              2000                      -19.5   \n",
       "7                0.9              2000                      -19.3   \n",
       "8                1.1              2000                      -19.8   \n",
       "9                0.5              1928                      -22.4   \n",
       "10               1.2              1996                      -21.2   \n",
       "11               1.3              1936                      -20.2   \n",
       "12               1.4              2000                      -17.2   \n",
       "13               1.6              2000                      -15.6   \n",
       "14               2.0              2000                      -14.6   \n",
       "15               3.2              2000                      -11.4   \n",
       "16               4.2               793                       -7.0   \n",
       "17               1.6              2000                       -6.5   \n",
       "18               1.4              2000                       -5.0   \n",
       "19               1.7              2000                       -3.5   \n",
       "20               1.5              1913                       -3.5   \n",
       "21               0.8              1687                       -3.6   \n",
       "22               1.5              1380                       -3.4   \n",
       "23               1.0              1265                       -3.6   \n",
       "24               1.1               994                       -3.6   \n",
       "25               0.6               990                       -4.2   \n",
       "26               1.5              1256                       -4.9   \n",
       "27               2.2              1221                       -6.2   \n",
       "28               2.0              1167                       -6.9   \n",
       "29               1.5              1202                       -7.1   \n",
       "30               2.1              1178                       -6.9   \n",
       "31               2.5              1276                       -7.1   \n",
       "32               2.1              1436                       -7.3   \n",
       "33               1.6              1487                       -7.9   \n",
       "34               1.6              1309                       -7.8   \n",
       "35               1.8              1406                       -7.7   \n",
       "36               1.3              1666                       -7.8   \n",
       "37               1.8              1780                       -7.9   \n",
       "38               1.3              1955                       -7.1   \n",
       "39               2.3              1953                       -4.8   \n",
       "40               2.6              1945                       -3.8   \n",
       "41               2.5              1891                       -3.3   \n",
       "42               1.5              1697                       -3.3   \n",
       "43               2.3              1666                       -4.0   \n",
       "44               1.2              1585                       -4.6   \n",
       "45               1.2              1448                       -4.1   \n",
       "46               1.5              1446                       -4.9   \n",
       "47               1.0              1352                       -4.0   \n",
       "48               1.4              1296                       -3.5   \n",
       "49               1.7               485                       -1.2   \n",
       "50               1.4               830                        0.0   \n",
       "51               1.6              1011                       -1.3   \n",
       "52               1.0              1060                       -0.8   \n",
       "53               1.9               914                       -0.1   \n",
       "54               2.5               278                        1.2   \n",
       "55               1.2               129                        1.7   \n",
       "56               1.8               244                        2.0   \n",
       "57               1.8               231                        2.1   \n",
       "58               2.2               257                        2.7   \n",
       "59               1.4               321                        3.1   \n",
       "\n",
       "    Solar Radiation (MJ/m2)  Rainfall(mm)  Snowfall (cm) Seasons     Holiday  \\\n",
       "0                      0.00           0.0            0.0  Winter  No Holiday   \n",
       "1                      0.00           0.0            0.0  Winter  No Holiday   \n",
       "2                      0.00           0.0            0.0  Winter  No Holiday   \n",
       "3                      0.00           0.0            0.0  Winter  No Holiday   \n",
       "4                      0.00           0.0            0.0  Winter  No Holiday   \n",
       "5                      0.00           0.0            0.0  Winter  No Holiday   \n",
       "6                      0.00           0.0            0.0  Winter  No Holiday   \n",
       "7                      0.00           0.0            0.0  Winter  No Holiday   \n",
       "8                      0.01           0.0            0.0  Winter  No Holiday   \n",
       "9                      0.23           0.0            0.0  Winter  No Holiday   \n",
       "10                     0.65           0.0            0.0  Winter  No Holiday   \n",
       "11                     0.94           0.0            0.0  Winter  No Holiday   \n",
       "12                     1.11           0.0            0.0  Winter  No Holiday   \n",
       "13                     1.16           0.0            0.0  Winter  No Holiday   \n",
       "14                     1.01           0.0            0.0  Winter  No Holiday   \n",
       "15                     0.54           0.0            0.0  Winter  No Holiday   \n",
       "16                     0.24           0.0            0.0  Winter  No Holiday   \n",
       "17                     0.08           0.0            0.0  Winter  No Holiday   \n",
       "18                     0.00           0.0            0.0  Winter  No Holiday   \n",
       "19                     0.00           0.0            0.0  Winter  No Holiday   \n",
       "20                     0.00           0.0            0.0  Winter  No Holiday   \n",
       "21                     0.00           0.0            0.0  Winter  No Holiday   \n",
       "22                     0.00           0.0            0.0  Winter  No Holiday   \n",
       "23                     0.00           0.0            0.0  Winter  No Holiday   \n",
       "24                     0.00           0.0            0.0  Winter  No Holiday   \n",
       "25                     0.00           0.0            0.0  Winter  No Holiday   \n",
       "26                     0.00           0.0            0.0  Winter  No Holiday   \n",
       "27                     0.00           0.0            0.0  Winter  No Holiday   \n",
       "28                     0.00           0.0            0.0  Winter  No Holiday   \n",
       "29                     0.00           0.0            0.0  Winter  No Holiday   \n",
       "30                     0.00           0.0            0.0  Winter  No Holiday   \n",
       "31                     0.00           0.0            0.0  Winter  No Holiday   \n",
       "32                     0.01           0.0            0.0  Winter  No Holiday   \n",
       "33                     0.30           0.0            0.0  Winter  No Holiday   \n",
       "34                     0.80           0.0            0.0  Winter  No Holiday   \n",
       "35                     1.00           0.0            0.0  Winter  No Holiday   \n",
       "36                     1.09           0.0            0.0  Winter  No Holiday   \n",
       "37                     1.12           0.0            0.0  Winter  No Holiday   \n",
       "38                     0.99           0.0            0.0  Winter  No Holiday   \n",
       "39                     0.74           0.0            0.0  Winter  No Holiday   \n",
       "40                     0.22           0.0            0.0  Winter  No Holiday   \n",
       "41                     0.06           0.0            0.0  Winter  No Holiday   \n",
       "42                     0.00           0.0            0.0  Winter  No Holiday   \n",
       "43                     0.00           0.0            0.0  Winter  No Holiday   \n",
       "44                     0.00           0.0            0.0  Winter  No Holiday   \n",
       "45                     0.00           0.0            0.0  Winter  No Holiday   \n",
       "46                     0.00           0.0            0.0  Winter  No Holiday   \n",
       "47                     0.00           0.0            0.0  Winter  No Holiday   \n",
       "48                     0.00           0.0            0.0  Winter  No Holiday   \n",
       "49                     0.00           0.0            0.0  Winter  No Holiday   \n",
       "50                     0.00           0.0            0.0  Winter  No Holiday   \n",
       "51                     0.00           0.5            0.0  Winter  No Holiday   \n",
       "52                     0.00           0.0            0.0  Winter  No Holiday   \n",
       "53                     0.00           0.0            0.0  Winter  No Holiday   \n",
       "54                     0.00           1.0            0.0  Winter  No Holiday   \n",
       "55                     0.00           0.0            0.0  Winter  No Holiday   \n",
       "56                     0.00           0.0            0.0  Winter  No Holiday   \n",
       "57                     0.02           2.5            0.0  Winter  No Holiday   \n",
       "58                     0.24           0.0            0.0  Winter  No Holiday   \n",
       "59                     0.25           0.0            0.0  Winter  No Holiday   \n",
       "\n",
       "   Functioning Day  \n",
       "0              Yes  \n",
       "1              Yes  \n",
       "2              Yes  \n",
       "3              Yes  \n",
       "4              Yes  \n",
       "5              Yes  \n",
       "6              Yes  \n",
       "7              Yes  \n",
       "8              Yes  \n",
       "9              Yes  \n",
       "10             Yes  \n",
       "11             Yes  \n",
       "12             Yes  \n",
       "13             Yes  \n",
       "14             Yes  \n",
       "15             Yes  \n",
       "16             Yes  \n",
       "17             Yes  \n",
       "18             Yes  \n",
       "19             Yes  \n",
       "20             Yes  \n",
       "21             Yes  \n",
       "22             Yes  \n",
       "23             Yes  \n",
       "24             Yes  \n",
       "25             Yes  \n",
       "26             Yes  \n",
       "27             Yes  \n",
       "28             Yes  \n",
       "29             Yes  \n",
       "30             Yes  \n",
       "31             Yes  \n",
       "32             Yes  \n",
       "33             Yes  \n",
       "34             Yes  \n",
       "35             Yes  \n",
       "36             Yes  \n",
       "37             Yes  \n",
       "38             Yes  \n",
       "39             Yes  \n",
       "40             Yes  \n",
       "41             Yes  \n",
       "42             Yes  \n",
       "43             Yes  \n",
       "44             Yes  \n",
       "45             Yes  \n",
       "46             Yes  \n",
       "47             Yes  \n",
       "48             Yes  \n",
       "49             Yes  \n",
       "50             Yes  \n",
       "51             Yes  \n",
       "52             Yes  \n",
       "53             Yes  \n",
       "54             Yes  \n",
       "55             Yes  \n",
       "56             Yes  \n",
       "57             Yes  \n",
       "58             Yes  \n",
       "59             Yes  "
      ]
     },
     "execution_count": 2,
     "metadata": {},
     "output_type": "execute_result"
    }
   ],
   "source": [
    "df = pd.read_csv(\"SeoulBikeData.csv\", encoding='ISO-8859-1')\n",
    "df.head(60)"
   ]
  },
  {
   "cell_type": "code",
   "execution_count": 3,
   "id": "9f95fdea",
   "metadata": {},
   "outputs": [
    {
     "data": {
      "text/plain": [
       "<bound method Series.unique of 0      -5.2\n",
       "1      -5.5\n",
       "2      -6.0\n",
       "3      -6.2\n",
       "4      -6.0\n",
       "       ... \n",
       "8755    4.2\n",
       "8756    3.4\n",
       "8757    2.6\n",
       "8758    2.1\n",
       "8759    1.9\n",
       "Name: Temperature(°C), Length: 8760, dtype: float64>"
      ]
     },
     "execution_count": 3,
     "metadata": {},
     "output_type": "execute_result"
    }
   ],
   "source": [
    "df['Temperature(°C)'].unique"
   ]
  },
  {
   "cell_type": "code",
   "execution_count": 4,
   "id": "ead523d4",
   "metadata": {},
   "outputs": [
    {
     "data": {
      "text/plain": [
       "(8760, 14)"
      ]
     },
     "execution_count": 4,
     "metadata": {},
     "output_type": "execute_result"
    }
   ],
   "source": [
    "df.shape"
   ]
  },
  {
   "cell_type": "code",
   "execution_count": 5,
   "id": "56c973c0",
   "metadata": {},
   "outputs": [
    {
     "name": "stdout",
     "output_type": "stream",
     "text": [
      "<class 'pandas.core.frame.DataFrame'>\n",
      "RangeIndex: 8760 entries, 0 to 8759\n",
      "Data columns (total 14 columns):\n",
      " #   Column                     Non-Null Count  Dtype  \n",
      "---  ------                     --------------  -----  \n",
      " 0   Date                       8760 non-null   object \n",
      " 1   Rented Bike Count          8760 non-null   int64  \n",
      " 2   Hour                       8760 non-null   int64  \n",
      " 3   Temperature(°C)            8760 non-null   float64\n",
      " 4   Humidity(%)                8760 non-null   int64  \n",
      " 5   Wind speed (m/s)           8760 non-null   float64\n",
      " 6   Visibility (10m)           8760 non-null   int64  \n",
      " 7   Dew point temperature(°C)  8760 non-null   float64\n",
      " 8   Solar Radiation (MJ/m2)    8760 non-null   float64\n",
      " 9   Rainfall(mm)               8760 non-null   float64\n",
      " 10  Snowfall (cm)              8760 non-null   float64\n",
      " 11  Seasons                    8760 non-null   object \n",
      " 12  Holiday                    8760 non-null   object \n",
      " 13  Functioning Day            8760 non-null   object \n",
      "dtypes: float64(6), int64(4), object(4)\n",
      "memory usage: 958.2+ KB\n"
     ]
    }
   ],
   "source": [
    "df.info()"
   ]
  },
  {
   "cell_type": "markdown",
   "id": "7510ddb7",
   "metadata": {},
   "source": [
    "## Exploratory Data Analysis and Data Preprocessing"
   ]
  },
  {
   "cell_type": "code",
   "execution_count": 6,
   "id": "e8434d33",
   "metadata": {},
   "outputs": [
    {
     "data": {
      "text/plain": [
       "Date                          object\n",
       "Rented Bike Count              int64\n",
       "Hour                           int64\n",
       "Temperature(°C)              float64\n",
       "Humidity(%)                    int64\n",
       "Wind speed (m/s)             float64\n",
       "Visibility (10m)               int64\n",
       "Dew point temperature(°C)    float64\n",
       "Solar Radiation (MJ/m2)      float64\n",
       "Rainfall(mm)                 float64\n",
       "Snowfall (cm)                float64\n",
       "Seasons                       object\n",
       "Holiday                       object\n",
       "Functioning Day               object\n",
       "dtype: object"
      ]
     },
     "execution_count": 6,
     "metadata": {},
     "output_type": "execute_result"
    }
   ],
   "source": [
    "df.dtypes"
   ]
  },
  {
   "cell_type": "code",
   "execution_count": 7,
   "id": "76780090",
   "metadata": {},
   "outputs": [
    {
     "data": {
      "text/html": [
       "<div>\n",
       "<style scoped>\n",
       "    .dataframe tbody tr th:only-of-type {\n",
       "        vertical-align: middle;\n",
       "    }\n",
       "\n",
       "    .dataframe tbody tr th {\n",
       "        vertical-align: top;\n",
       "    }\n",
       "\n",
       "    .dataframe thead th {\n",
       "        text-align: right;\n",
       "    }\n",
       "</style>\n",
       "<table border=\"1\" class=\"dataframe\">\n",
       "  <thead>\n",
       "    <tr style=\"text-align: right;\">\n",
       "      <th></th>\n",
       "      <th>Rented Bike Count</th>\n",
       "      <th>Hour</th>\n",
       "      <th>Temperature(°C)</th>\n",
       "      <th>Humidity(%)</th>\n",
       "      <th>Wind speed (m/s)</th>\n",
       "      <th>Visibility (10m)</th>\n",
       "      <th>Dew point temperature(°C)</th>\n",
       "      <th>Solar Radiation (MJ/m2)</th>\n",
       "      <th>Rainfall(mm)</th>\n",
       "      <th>Snowfall (cm)</th>\n",
       "    </tr>\n",
       "  </thead>\n",
       "  <tbody>\n",
       "    <tr>\n",
       "      <th>count</th>\n",
       "      <td>8760.000000</td>\n",
       "      <td>8760.000000</td>\n",
       "      <td>8760.000000</td>\n",
       "      <td>8760.000000</td>\n",
       "      <td>8760.000000</td>\n",
       "      <td>8760.000000</td>\n",
       "      <td>8760.000000</td>\n",
       "      <td>8760.000000</td>\n",
       "      <td>8760.000000</td>\n",
       "      <td>8760.000000</td>\n",
       "    </tr>\n",
       "    <tr>\n",
       "      <th>mean</th>\n",
       "      <td>704.602055</td>\n",
       "      <td>11.500000</td>\n",
       "      <td>12.882922</td>\n",
       "      <td>58.226256</td>\n",
       "      <td>1.724909</td>\n",
       "      <td>1436.825799</td>\n",
       "      <td>4.073813</td>\n",
       "      <td>0.569111</td>\n",
       "      <td>0.148687</td>\n",
       "      <td>0.075068</td>\n",
       "    </tr>\n",
       "    <tr>\n",
       "      <th>std</th>\n",
       "      <td>644.997468</td>\n",
       "      <td>6.922582</td>\n",
       "      <td>11.944825</td>\n",
       "      <td>20.362413</td>\n",
       "      <td>1.036300</td>\n",
       "      <td>608.298712</td>\n",
       "      <td>13.060369</td>\n",
       "      <td>0.868746</td>\n",
       "      <td>1.128193</td>\n",
       "      <td>0.436746</td>\n",
       "    </tr>\n",
       "    <tr>\n",
       "      <th>min</th>\n",
       "      <td>0.000000</td>\n",
       "      <td>0.000000</td>\n",
       "      <td>-17.800000</td>\n",
       "      <td>0.000000</td>\n",
       "      <td>0.000000</td>\n",
       "      <td>27.000000</td>\n",
       "      <td>-30.600000</td>\n",
       "      <td>0.000000</td>\n",
       "      <td>0.000000</td>\n",
       "      <td>0.000000</td>\n",
       "    </tr>\n",
       "    <tr>\n",
       "      <th>25%</th>\n",
       "      <td>191.000000</td>\n",
       "      <td>5.750000</td>\n",
       "      <td>3.500000</td>\n",
       "      <td>42.000000</td>\n",
       "      <td>0.900000</td>\n",
       "      <td>940.000000</td>\n",
       "      <td>-4.700000</td>\n",
       "      <td>0.000000</td>\n",
       "      <td>0.000000</td>\n",
       "      <td>0.000000</td>\n",
       "    </tr>\n",
       "    <tr>\n",
       "      <th>50%</th>\n",
       "      <td>504.500000</td>\n",
       "      <td>11.500000</td>\n",
       "      <td>13.700000</td>\n",
       "      <td>57.000000</td>\n",
       "      <td>1.500000</td>\n",
       "      <td>1698.000000</td>\n",
       "      <td>5.100000</td>\n",
       "      <td>0.010000</td>\n",
       "      <td>0.000000</td>\n",
       "      <td>0.000000</td>\n",
       "    </tr>\n",
       "    <tr>\n",
       "      <th>75%</th>\n",
       "      <td>1065.250000</td>\n",
       "      <td>17.250000</td>\n",
       "      <td>22.500000</td>\n",
       "      <td>74.000000</td>\n",
       "      <td>2.300000</td>\n",
       "      <td>2000.000000</td>\n",
       "      <td>14.800000</td>\n",
       "      <td>0.930000</td>\n",
       "      <td>0.000000</td>\n",
       "      <td>0.000000</td>\n",
       "    </tr>\n",
       "    <tr>\n",
       "      <th>max</th>\n",
       "      <td>3556.000000</td>\n",
       "      <td>23.000000</td>\n",
       "      <td>39.400000</td>\n",
       "      <td>98.000000</td>\n",
       "      <td>7.400000</td>\n",
       "      <td>2000.000000</td>\n",
       "      <td>27.200000</td>\n",
       "      <td>3.520000</td>\n",
       "      <td>35.000000</td>\n",
       "      <td>8.800000</td>\n",
       "    </tr>\n",
       "  </tbody>\n",
       "</table>\n",
       "</div>"
      ],
      "text/plain": [
       "       Rented Bike Count         Hour  Temperature(°C)  Humidity(%)  \\\n",
       "count        8760.000000  8760.000000      8760.000000  8760.000000   \n",
       "mean          704.602055    11.500000        12.882922    58.226256   \n",
       "std           644.997468     6.922582        11.944825    20.362413   \n",
       "min             0.000000     0.000000       -17.800000     0.000000   \n",
       "25%           191.000000     5.750000         3.500000    42.000000   \n",
       "50%           504.500000    11.500000        13.700000    57.000000   \n",
       "75%          1065.250000    17.250000        22.500000    74.000000   \n",
       "max          3556.000000    23.000000        39.400000    98.000000   \n",
       "\n",
       "       Wind speed (m/s)  Visibility (10m)  Dew point temperature(°C)  \\\n",
       "count       8760.000000       8760.000000                8760.000000   \n",
       "mean           1.724909       1436.825799                   4.073813   \n",
       "std            1.036300        608.298712                  13.060369   \n",
       "min            0.000000         27.000000                 -30.600000   \n",
       "25%            0.900000        940.000000                  -4.700000   \n",
       "50%            1.500000       1698.000000                   5.100000   \n",
       "75%            2.300000       2000.000000                  14.800000   \n",
       "max            7.400000       2000.000000                  27.200000   \n",
       "\n",
       "       Solar Radiation (MJ/m2)  Rainfall(mm)  Snowfall (cm)  \n",
       "count              8760.000000   8760.000000    8760.000000  \n",
       "mean                  0.569111      0.148687       0.075068  \n",
       "std                   0.868746      1.128193       0.436746  \n",
       "min                   0.000000      0.000000       0.000000  \n",
       "25%                   0.000000      0.000000       0.000000  \n",
       "50%                   0.010000      0.000000       0.000000  \n",
       "75%                   0.930000      0.000000       0.000000  \n",
       "max                   3.520000     35.000000       8.800000  "
      ]
     },
     "execution_count": 7,
     "metadata": {},
     "output_type": "execute_result"
    }
   ],
   "source": [
    "## Statistical description of features\n",
    "df.describe()"
   ]
  },
  {
   "cell_type": "code",
   "execution_count": 8,
   "id": "ad619793",
   "metadata": {
    "scrolled": true
   },
   "outputs": [
    {
     "data": {
      "text/plain": [
       "Date                         0\n",
       "Rented Bike Count            0\n",
       "Hour                         0\n",
       "Temperature(°C)              0\n",
       "Humidity(%)                  0\n",
       "Wind speed (m/s)             0\n",
       "Visibility (10m)             0\n",
       "Dew point temperature(°C)    0\n",
       "Solar Radiation (MJ/m2)      0\n",
       "Rainfall(mm)                 0\n",
       "Snowfall (cm)                0\n",
       "Seasons                      0\n",
       "Holiday                      0\n",
       "Functioning Day              0\n",
       "dtype: int64"
      ]
     },
     "execution_count": 8,
     "metadata": {},
     "output_type": "execute_result"
    }
   ],
   "source": [
    "\n",
    "## Check for missing values\n",
    "df.isnull().sum()\n"
   ]
  },
  {
   "cell_type": "code",
   "execution_count": 9,
   "id": "485b7993",
   "metadata": {},
   "outputs": [],
   "source": [
    "## Convert the 'Date' variable to a datetime feature\n",
    "df['Date']=pd.to_datetime(df['Date'],format=\"%d/%m/%Y\")"
   ]
  },
  {
   "cell_type": "code",
   "execution_count": 10,
   "id": "fb5f9b2d",
   "metadata": {},
   "outputs": [
    {
     "data": {
      "image/png": "[encoded data removed]",
      "text/plain": [
       "<Figure size 1440x720 with 2 Axes>"
      ]
     },
     "metadata": {},
     "output_type": "display_data"
    }
   ],
   "source": [
    "## Check correlation between the data\n",
    "corr = df.corr()\n",
    "plt.figure(figsize=(20,10))\n",
    "sns.heatmap(corr,\n",
    "            vmin=-1, vmax=1,\n",
    "            cmap='coolwarm',\n",
    "            annot=True, \n",
    "            square=True);"
   ]
  },
  {
   "cell_type": "markdown",
   "id": "055368a3",
   "metadata": {},
   "source": [
    "From the Correlation Matrix, we can see that the variables that are good predictors of the target variable(Rented Bike Count) are:\n",
    "- Temperature\n",
    "- Hour\n"
   ]
  },
  {
   "cell_type": "markdown",
   "id": "82f33c81",
   "metadata": {},
   "source": [
    "There is a strong multicollinearlity between'Temperature(°C)' and 'Dew point temperature(°C)', so we can drop one of them."
   ]
  },
  {
   "cell_type": "code",
   "execution_count": 11,
   "id": "0aa17571",
   "metadata": {},
   "outputs": [],
   "source": [
    "df=df.drop(['Dew point temperature(°C)'],axis=1)"
   ]
  },
  {
   "cell_type": "code",
   "execution_count": 12,
   "id": "2c8b4783",
   "metadata": {},
   "outputs": [
    {
     "data": {
      "text/html": [
       "<style type=\"text/css\">\n",
       "#T_edcc5_row0_col0 {\n",
       "  background-color: #ff0000;\n",
       "  color: #f1f1f1;\n",
       "}\n",
       "#T_edcc5_row1_col0 {\n",
       "  background-color: #fa5c5c;\n",
       "  color: #f1f1f1;\n",
       "}\n",
       "#T_edcc5_row2_col0 {\n",
       "  background-color: #f97676;\n",
       "  color: #f1f1f1;\n",
       "}\n",
       "#T_edcc5_row3_col0 {\n",
       "  background-color: #f89494;\n",
       "  color: #000000;\n",
       "}\n",
       "#T_edcc5_row4_col0 {\n",
       "  background-color: #f7a0a0;\n",
       "  color: #000000;\n",
       "}\n",
       "#T_edcc5_row5_col0 {\n",
       "  background-color: #f6b0b0;\n",
       "  color: #000000;\n",
       "}\n",
       "#T_edcc5_row6_col0 {\n",
       "  background-color: #f4e1e1;\n",
       "  color: #000000;\n",
       "}\n",
       "#T_edcc5_row7_col0 {\n",
       "  background-color: #f3e5e5;\n",
       "  color: #000000;\n",
       "}\n",
       "#T_edcc5_row8_col0 {\n",
       "  background-color: #f3f0f0;\n",
       "  color: #000000;\n",
       "}\n",
       "</style>\n",
       "<table id=\"T_edcc5\">\n",
       "  <thead>\n",
       "    <tr>\n",
       "      <th class=\"blank level0\" >&nbsp;</th>\n",
       "      <th id=\"T_edcc5_level0_col0\" class=\"col_heading level0 col0\" >Correlation to the target</th>\n",
       "    </tr>\n",
       "  </thead>\n",
       "  <tbody>\n",
       "    <tr>\n",
       "      <th id=\"T_edcc5_level0_row0\" class=\"row_heading level0 row0\" >Rented Bike Count</th>\n",
       "      <td id=\"T_edcc5_row0_col0\" class=\"data row0 col0\" >1.000000</td>\n",
       "    </tr>\n",
       "    <tr>\n",
       "      <th id=\"T_edcc5_level0_row1\" class=\"row_heading level0 row1\" >Temperature(°C)</th>\n",
       "      <td id=\"T_edcc5_row1_col0\" class=\"data row1 col0\" >0.538558</td>\n",
       "    </tr>\n",
       "    <tr>\n",
       "      <th id=\"T_edcc5_level0_row2\" class=\"row_heading level0 row2\" >Hour</th>\n",
       "      <td id=\"T_edcc5_row2_col0\" class=\"data row2 col0\" >0.410257</td>\n",
       "    </tr>\n",
       "    <tr>\n",
       "      <th id=\"T_edcc5_level0_row3\" class=\"row_heading level0 row3\" >Solar Radiation (MJ/m2)</th>\n",
       "      <td id=\"T_edcc5_row3_col0\" class=\"data row3 col0\" >0.261837</td>\n",
       "    </tr>\n",
       "    <tr>\n",
       "      <th id=\"T_edcc5_level0_row4\" class=\"row_heading level0 row4\" >Visibility (10m)</th>\n",
       "      <td id=\"T_edcc5_row4_col0\" class=\"data row4 col0\" >0.199280</td>\n",
       "    </tr>\n",
       "    <tr>\n",
       "      <th id=\"T_edcc5_level0_row5\" class=\"row_heading level0 row5\" >Wind speed (m/s)</th>\n",
       "      <td id=\"T_edcc5_row5_col0\" class=\"data row5 col0\" >0.121108</td>\n",
       "    </tr>\n",
       "    <tr>\n",
       "      <th id=\"T_edcc5_level0_row6\" class=\"row_heading level0 row6\" >Rainfall(mm)</th>\n",
       "      <td id=\"T_edcc5_row6_col0\" class=\"data row6 col0\" >-0.123074</td>\n",
       "    </tr>\n",
       "    <tr>\n",
       "      <th id=\"T_edcc5_level0_row7\" class=\"row_heading level0 row7\" >Snowfall (cm)</th>\n",
       "      <td id=\"T_edcc5_row7_col0\" class=\"data row7 col0\" >-0.141804</td>\n",
       "    </tr>\n",
       "    <tr>\n",
       "      <th id=\"T_edcc5_level0_row8\" class=\"row_heading level0 row8\" >Humidity(%)</th>\n",
       "      <td id=\"T_edcc5_row8_col0\" class=\"data row8 col0\" >-0.199780</td>\n",
       "    </tr>\n",
       "  </tbody>\n",
       "</table>\n"
      ],
      "text/plain": [
       "<pandas.io.formats.style.Styler at 0x247505f3850>"
      ]
     },
     "execution_count": 12,
     "metadata": {},
     "output_type": "execute_result"
    }
   ],
   "source": [
    "df1Corr=pd.DataFrame(df.corr().unstack().sort_values(ascending=False)['Rented Bike Count'],columns=['Correlation to the target'])\n",
    "df1Corr.style.background_gradient(cmap=sns.light_palette(\"red\", as_cmap=True))"
   ]
  },
  {
   "cell_type": "markdown",
   "id": "ec5faf07",
   "metadata": {},
   "source": [
    "We can see that, Temperature and Hour are the highy correlated features to the target variable and hence are they the good predictors of the target variable."
   ]
  },
  {
   "cell_type": "markdown",
   "id": "2b9f7581",
   "metadata": {},
   "source": [
    "## Data Preparation and Visualization"
   ]
  },
  {
   "cell_type": "markdown",
   "id": "502aba76",
   "metadata": {},
   "source": [
    "## Creating new Variables"
   ]
  },
  {
   "cell_type": "code",
   "execution_count": 13,
   "id": "c48f9dc7",
   "metadata": {},
   "outputs": [],
   "source": [
    "## Variable to inform us whether it is night or day\n",
    "df['label_day_night']=df['Hour'].apply(lambda x : 'Night' if (x >20 or x<5) else( 'Day'))"
   ]
  },
  {
   "cell_type": "code",
   "execution_count": 14,
   "id": "d721f157",
   "metadata": {},
   "outputs": [
    {
     "data": {
      "text/html": [
       "<div>\n",
       "<style scoped>\n",
       "    .dataframe tbody tr th:only-of-type {\n",
       "        vertical-align: middle;\n",
       "    }\n",
       "\n",
       "    .dataframe tbody tr th {\n",
       "        vertical-align: top;\n",
       "    }\n",
       "\n",
       "    .dataframe thead th {\n",
       "        text-align: right;\n",
       "    }\n",
       "</style>\n",
       "<table border=\"1\" class=\"dataframe\">\n",
       "  <thead>\n",
       "    <tr style=\"text-align: right;\">\n",
       "      <th></th>\n",
       "      <th>Date</th>\n",
       "      <th>Rented Bike Count</th>\n",
       "      <th>Hour</th>\n",
       "      <th>Temperature(°C)</th>\n",
       "      <th>Humidity(%)</th>\n",
       "      <th>Wind speed (m/s)</th>\n",
       "      <th>Visibility (10m)</th>\n",
       "      <th>Solar Radiation (MJ/m2)</th>\n",
       "      <th>Rainfall(mm)</th>\n",
       "      <th>Snowfall (cm)</th>\n",
       "      <th>Seasons</th>\n",
       "      <th>Holiday</th>\n",
       "      <th>Functioning Day</th>\n",
       "      <th>label_day_night</th>\n",
       "      <th>WeekDay</th>\n",
       "      <th>Month</th>\n",
       "    </tr>\n",
       "  </thead>\n",
       "  <tbody>\n",
       "    <tr>\n",
       "      <th>0</th>\n",
       "      <td>2017-12-01</td>\n",
       "      <td>254</td>\n",
       "      <td>0</td>\n",
       "      <td>-5.2</td>\n",
       "      <td>37</td>\n",
       "      <td>2.2</td>\n",
       "      <td>2000</td>\n",
       "      <td>0.0</td>\n",
       "      <td>0.0</td>\n",
       "      <td>0.0</td>\n",
       "      <td>Winter</td>\n",
       "      <td>No Holiday</td>\n",
       "      <td>Yes</td>\n",
       "      <td>Night</td>\n",
       "      <td>Friday</td>\n",
       "      <td>12</td>\n",
       "    </tr>\n",
       "    <tr>\n",
       "      <th>1</th>\n",
       "      <td>2017-12-01</td>\n",
       "      <td>204</td>\n",
       "      <td>1</td>\n",
       "      <td>-5.5</td>\n",
       "      <td>38</td>\n",
       "      <td>0.8</td>\n",
       "      <td>2000</td>\n",
       "      <td>0.0</td>\n",
       "      <td>0.0</td>\n",
       "      <td>0.0</td>\n",
       "      <td>Winter</td>\n",
       "      <td>No Holiday</td>\n",
       "      <td>Yes</td>\n",
       "      <td>Night</td>\n",
       "      <td>Friday</td>\n",
       "      <td>12</td>\n",
       "    </tr>\n",
       "    <tr>\n",
       "      <th>2</th>\n",
       "      <td>2017-12-01</td>\n",
       "      <td>173</td>\n",
       "      <td>2</td>\n",
       "      <td>-6.0</td>\n",
       "      <td>39</td>\n",
       "      <td>1.0</td>\n",
       "      <td>2000</td>\n",
       "      <td>0.0</td>\n",
       "      <td>0.0</td>\n",
       "      <td>0.0</td>\n",
       "      <td>Winter</td>\n",
       "      <td>No Holiday</td>\n",
       "      <td>Yes</td>\n",
       "      <td>Night</td>\n",
       "      <td>Friday</td>\n",
       "      <td>12</td>\n",
       "    </tr>\n",
       "    <tr>\n",
       "      <th>3</th>\n",
       "      <td>2017-12-01</td>\n",
       "      <td>107</td>\n",
       "      <td>3</td>\n",
       "      <td>-6.2</td>\n",
       "      <td>40</td>\n",
       "      <td>0.9</td>\n",
       "      <td>2000</td>\n",
       "      <td>0.0</td>\n",
       "      <td>0.0</td>\n",
       "      <td>0.0</td>\n",
       "      <td>Winter</td>\n",
       "      <td>No Holiday</td>\n",
       "      <td>Yes</td>\n",
       "      <td>Night</td>\n",
       "      <td>Friday</td>\n",
       "      <td>12</td>\n",
       "    </tr>\n",
       "    <tr>\n",
       "      <th>4</th>\n",
       "      <td>2017-12-01</td>\n",
       "      <td>78</td>\n",
       "      <td>4</td>\n",
       "      <td>-6.0</td>\n",
       "      <td>36</td>\n",
       "      <td>2.3</td>\n",
       "      <td>2000</td>\n",
       "      <td>0.0</td>\n",
       "      <td>0.0</td>\n",
       "      <td>0.0</td>\n",
       "      <td>Winter</td>\n",
       "      <td>No Holiday</td>\n",
       "      <td>Yes</td>\n",
       "      <td>Night</td>\n",
       "      <td>Friday</td>\n",
       "      <td>12</td>\n",
       "    </tr>\n",
       "  </tbody>\n",
       "</table>\n",
       "</div>"
      ],
      "text/plain": [
       "        Date  Rented Bike Count  Hour  Temperature(°C)  Humidity(%)  \\\n",
       "0 2017-12-01                254     0             -5.2           37   \n",
       "1 2017-12-01                204     1             -5.5           38   \n",
       "2 2017-12-01                173     2             -6.0           39   \n",
       "3 2017-12-01                107     3             -6.2           40   \n",
       "4 2017-12-01                 78     4             -6.0           36   \n",
       "\n",
       "   Wind speed (m/s)  Visibility (10m)  Solar Radiation (MJ/m2)  Rainfall(mm)  \\\n",
       "0               2.2              2000                      0.0           0.0   \n",
       "1               0.8              2000                      0.0           0.0   \n",
       "2               1.0              2000                      0.0           0.0   \n",
       "3               0.9              2000                      0.0           0.0   \n",
       "4               2.3              2000                      0.0           0.0   \n",
       "\n",
       "   Snowfall (cm) Seasons     Holiday Functioning Day label_day_night WeekDay  \\\n",
       "0            0.0  Winter  No Holiday             Yes           Night  Friday   \n",
       "1            0.0  Winter  No Holiday             Yes           Night  Friday   \n",
       "2            0.0  Winter  No Holiday             Yes           Night  Friday   \n",
       "3            0.0  Winter  No Holiday             Yes           Night  Friday   \n",
       "4            0.0  Winter  No Holiday             Yes           Night  Friday   \n",
       "\n",
       "   Month  \n",
       "0     12  \n",
       "1     12  \n",
       "2     12  \n",
       "3     12  \n",
       "4     12  "
      ]
     },
     "execution_count": 14,
     "metadata": {},
     "output_type": "execute_result"
    }
   ],
   "source": [
    "## We create a column feature which gives the day of the week and the month corresponding to the date\n",
    "df['WeekDay']=df[\"Date\"].dt.day_name() \n",
    "\n",
    "df['Month']=df['Date'].dt.month\n",
    "\n",
    "df.head()"
   ]
  },
  {
   "cell_type": "markdown",
   "id": "50563ea4",
   "metadata": {},
   "source": [
    "## Plotting variables to the target"
   ]
  },
  {
   "cell_type": "code",
   "execution_count": 15,
   "id": "98decf23",
   "metadata": {},
   "outputs": [
    {
     "data": {
      "text/plain": [
       "<AxesSubplot:xlabel='Date'>"
      ]
     },
     "execution_count": 15,
     "metadata": {},
     "output_type": "execute_result"
    },
    {
     "data": {
      "image/png": "[encoded data removed]",
      "text/plain": [
       "<Figure size 1080x576 with 1 Axes>"
      ]
     },
     "metadata": {},
     "output_type": "display_data"
    }
   ],
   "source": [
    "df.plot(x='Date',y='Rented Bike Count',kind='line', figsize=(15,8)) \n",
    "## On this first plot, we can see that the rental bike count is highly variable at each hour.\n"
   ]
  },
  {
   "cell_type": "markdown",
   "id": "36bb338f",
   "metadata": {},
   "source": [
    "We can see that as we expected, summer is the season in which we have the most rents.\n",
    "This is logical because people are mostly outside doing summer days when it is actually warm."
   ]
  },
  {
   "cell_type": "code",
   "execution_count": 16,
   "id": "06b94135",
   "metadata": {
    "scrolled": true
   },
   "outputs": [
    {
     "data": {
      "text/html": [
       "<style type=\"text/css\">\n",
       "#T_06aa1_row0_col0 {\n",
       "  background-color: #ff0000;\n",
       "  color: #f1f1f1;\n",
       "}\n",
       "#T_06aa1_row1_col0 {\n",
       "  background-color: #fc4242;\n",
       "  color: #f1f1f1;\n",
       "}\n",
       "#T_06aa1_row2_col0 {\n",
       "  background-color: #fa5959;\n",
       "  color: #f1f1f1;\n",
       "}\n",
       "#T_06aa1_row3_col0 {\n",
       "  background-color: #f3f0f0;\n",
       "  color: #000000;\n",
       "}\n",
       "</style>\n",
       "<table id=\"T_06aa1\">\n",
       "  <thead>\n",
       "    <tr>\n",
       "      <th class=\"blank level0\" >&nbsp;</th>\n",
       "      <th id=\"T_06aa1_level0_col0\" class=\"col_heading level0 col0\" >Rented Bike Count</th>\n",
       "    </tr>\n",
       "    <tr>\n",
       "      <th class=\"index_name level0\" >Seasons</th>\n",
       "      <th class=\"blank col0\" >&nbsp;</th>\n",
       "    </tr>\n",
       "  </thead>\n",
       "  <tbody>\n",
       "    <tr>\n",
       "      <th id=\"T_06aa1_level0_row0\" class=\"row_heading level0 row0\" >Summer</th>\n",
       "      <td id=\"T_06aa1_row0_col0\" class=\"data row0 col0\" >2283234</td>\n",
       "    </tr>\n",
       "    <tr>\n",
       "      <th id=\"T_06aa1_level0_row1\" class=\"row_heading level0 row1\" >Autumn</th>\n",
       "      <td id=\"T_06aa1_row1_col0\" class=\"data row1 col0\" >1790002</td>\n",
       "    </tr>\n",
       "    <tr>\n",
       "      <th id=\"T_06aa1_level0_row2\" class=\"row_heading level0 row2\" >Spring</th>\n",
       "      <td id=\"T_06aa1_row2_col0\" class=\"data row2 col0\" >1611909</td>\n",
       "    </tr>\n",
       "    <tr>\n",
       "      <th id=\"T_06aa1_level0_row3\" class=\"row_heading level0 row3\" >Winter</th>\n",
       "      <td id=\"T_06aa1_row3_col0\" class=\"data row3 col0\" >487169</td>\n",
       "    </tr>\n",
       "  </tbody>\n",
       "</table>\n"
      ],
      "text/plain": [
       "<pandas.io.formats.style.Styler at 0x2475646eb50>"
      ]
     },
     "execution_count": 16,
     "metadata": {},
     "output_type": "execute_result"
    }
   ],
   "source": [
    "## Let's try to understand why summer is the season with the most rents\n",
    "df_Seasons=pd.DataFrame(df.groupby('Seasons').sum()['Rented Bike Count'].sort_values(ascending=False))\n",
    "df_Seasons.style.background_gradient(cmap=sns.light_palette(\"red\", as_cmap=True))\n"
   ]
  },
  {
   "cell_type": "markdown",
   "id": "8b2b5657",
   "metadata": {},
   "source": [
    "Let's verify that it is linked to the solar Radiation\n"
   ]
  },
  {
   "cell_type": "code",
   "execution_count": 17,
   "id": "df32581f",
   "metadata": {},
   "outputs": [
    {
     "data": {
      "text/html": [
       "<style type=\"text/css\">\n",
       "#T_fcf38_row0_col0 {\n",
       "  background-color: #ff0000;\n",
       "  color: #f1f1f1;\n",
       "}\n",
       "#T_fcf38_row1_col0 {\n",
       "  background-color: #fd2525;\n",
       "  color: #f1f1f1;\n",
       "}\n",
       "#T_fcf38_row2_col0 {\n",
       "  background-color: #f97d7d;\n",
       "  color: #f1f1f1;\n",
       "}\n",
       "#T_fcf38_row3_col0 {\n",
       "  background-color: #f3f0f0;\n",
       "  color: #000000;\n",
       "}\n",
       "</style>\n",
       "<table id=\"T_fcf38\">\n",
       "  <thead>\n",
       "    <tr>\n",
       "      <th class=\"blank level0\" >&nbsp;</th>\n",
       "      <th id=\"T_fcf38_level0_col0\" class=\"col_heading level0 col0\" >Solar Radiation (MJ/m2)</th>\n",
       "    </tr>\n",
       "    <tr>\n",
       "      <th class=\"index_name level0\" >Seasons</th>\n",
       "      <th class=\"blank col0\" >&nbsp;</th>\n",
       "    </tr>\n",
       "  </thead>\n",
       "  <tbody>\n",
       "    <tr>\n",
       "      <th id=\"T_fcf38_level0_row0\" class=\"row_heading level0 row0\" >Summer</th>\n",
       "      <td id=\"T_fcf38_row0_col0\" class=\"data row0 col0\" >1680.850000</td>\n",
       "    </tr>\n",
       "    <tr>\n",
       "      <th id=\"T_fcf38_level0_row1\" class=\"row_heading level0 row1\" >Spring</th>\n",
       "      <td id=\"T_fcf38_row1_col0\" class=\"data row1 col0\" >1520.840000</td>\n",
       "    </tr>\n",
       "    <tr>\n",
       "      <th id=\"T_fcf38_level0_row2\" class=\"row_heading level0 row2\" >Autumn</th>\n",
       "      <td id=\"T_fcf38_row2_col0\" class=\"data row2 col0\" >1139.650000</td>\n",
       "    </tr>\n",
       "    <tr>\n",
       "      <th id=\"T_fcf38_level0_row3\" class=\"row_heading level0 row3\" >Winter</th>\n",
       "      <td id=\"T_fcf38_row3_col0\" class=\"data row3 col0\" >644.070000</td>\n",
       "    </tr>\n",
       "  </tbody>\n",
       "</table>\n"
      ],
      "text/plain": [
       "<pandas.io.formats.style.Styler at 0x24756343fa0>"
      ]
     },
     "execution_count": 17,
     "metadata": {},
     "output_type": "execute_result"
    }
   ],
   "source": [
    "## This plot explains the high correlation with the feature 'solar Radiation' and 'Summer'\n",
    "df_SolarRadiation=pd.DataFrame(df.groupby('Seasons').sum()['Solar Radiation (MJ/m2)'].sort_values(ascending=False))\n",
    "df_SolarRadiation.style.background_gradient(cmap=sns.light_palette(\"red\", as_cmap=True))"
   ]
  },
  {
   "cell_type": "markdown",
   "id": "f148a10f",
   "metadata": {},
   "source": [
    "We can confirm from above that summer has the highest solar radiation so it makes sense that it has the highest bike count. As our earlier assumption that people are mostly outside during summer is true."
   ]
  },
  {
   "cell_type": "code",
   "execution_count": 18,
   "id": "3bc5506d",
   "metadata": {},
   "outputs": [
    {
     "data": {
      "text/plain": [
       "<AxesSubplot:ylabel='Rented Bike Count'>"
      ]
     },
     "execution_count": 18,
     "metadata": {},
     "output_type": "execute_result"
    },
    {
     "data": {
      "image/png": "[encoded data removed]",
      "text/plain": [
       "<Figure size 432x288 with 1 Axes>"
      ]
     },
     "metadata": {},
     "output_type": "display_data"
    }
   ],
   "source": [
    "df.groupby('Seasons').sum()['Rented Bike Count'].plot.pie(autopct='%1.1f%%')"
   ]
  },
  {
   "cell_type": "code",
   "execution_count": 19,
   "id": "e268cf80",
   "metadata": {},
   "outputs": [
    {
     "data": {
      "text/plain": [
       "<AxesSubplot:xlabel='Solar Radiation (MJ/m2)'>"
      ]
     },
     "execution_count": 19,
     "metadata": {},
     "output_type": "execute_result"
    },
    {
     "data": {
      "image/png": "[encoded data removed]",
      "text/plain": [
       "<Figure size 432x288 with 1 Axes>"
      ]
     },
     "metadata": {},
     "output_type": "display_data"
    }
   ],
   "source": [
    "df.groupby('Solar Radiation (MJ/m2)').mean()['Rented Bike Count'].plot()\n"
   ]
  },
  {
   "cell_type": "markdown",
   "id": "d1579bdd",
   "metadata": {},
   "source": [
    "Here the amount of rented bikes is huge, when there is solar radiation, the counter of rents is around 1000\n"
   ]
  },
  {
   "cell_type": "code",
   "execution_count": 20,
   "id": "8ddc9e70",
   "metadata": {},
   "outputs": [
    {
     "data": {
      "text/plain": [
       "<AxesSubplot:xlabel='Hour'>"
      ]
     },
     "execution_count": 20,
     "metadata": {},
     "output_type": "execute_result"
    },
    {
     "data": {
      "image/png": "[encoded data removed]",
      "text/plain": [
       "<Figure size 432x288 with 1 Axes>"
      ]
     },
     "metadata": {},
     "output_type": "display_data"
    }
   ],
   "source": [
    "df.groupby('Hour').sum()['Rented Bike Count'].plot.bar()\n",
    "df.groupby('Hour').sum()['Rented Bike Count'].plot()"
   ]
  },
  {
   "cell_type": "markdown",
   "id": "353836da",
   "metadata": {},
   "source": [
    "Here we have a repartition of the rents by hour, at the beginning of the day. We suppose people go to work and return by bike\n"
   ]
  },
  {
   "cell_type": "code",
   "execution_count": 21,
   "id": "27e64978",
   "metadata": {},
   "outputs": [
    {
     "data": {
      "text/html": [
       "<style type=\"text/css\">\n",
       "#T_500a2_row0_col0 {\n",
       "  background-color: #ff0000;\n",
       "  color: #f1f1f1;\n",
       "}\n",
       "#T_500a2_row1_col0 {\n",
       "  background-color: #fd2525;\n",
       "  color: #f1f1f1;\n",
       "}\n",
       "#T_500a2_row2_col0 {\n",
       "  background-color: #fc3737;\n",
       "  color: #f1f1f1;\n",
       "}\n",
       "#T_500a2_row3_col0 {\n",
       "  background-color: #fa5b5b;\n",
       "  color: #f1f1f1;\n",
       "}\n",
       "#T_500a2_row4_col0 {\n",
       "  background-color: #f97c7c;\n",
       "  color: #f1f1f1;\n",
       "}\n",
       "#T_500a2_row5_col0 {\n",
       "  background-color: #f88282;\n",
       "  color: #f1f1f1;\n",
       "}\n",
       "#T_500a2_row6_col0 {\n",
       "  background-color: #f3f0f0;\n",
       "  color: #000000;\n",
       "}\n",
       "</style>\n",
       "<table id=\"T_500a2\">\n",
       "  <thead>\n",
       "    <tr>\n",
       "      <th class=\"blank level0\" >&nbsp;</th>\n",
       "      <th id=\"T_500a2_level0_col0\" class=\"col_heading level0 col0\" >Rented Bike Count</th>\n",
       "    </tr>\n",
       "    <tr>\n",
       "      <th class=\"index_name level0\" >WeekDay</th>\n",
       "      <th class=\"blank col0\" >&nbsp;</th>\n",
       "    </tr>\n",
       "  </thead>\n",
       "  <tbody>\n",
       "    <tr>\n",
       "      <th id=\"T_500a2_level0_row0\" class=\"row_heading level0 row0\" >Friday</th>\n",
       "      <td id=\"T_500a2_row0_col0\" class=\"data row0 col0\" >950334</td>\n",
       "    </tr>\n",
       "    <tr>\n",
       "      <th id=\"T_500a2_level0_row1\" class=\"row_heading level0 row1\" >Wednesday</th>\n",
       "      <td id=\"T_500a2_row1_col0\" class=\"data row1 col0\" >923956</td>\n",
       "    </tr>\n",
       "    <tr>\n",
       "      <th id=\"T_500a2_level0_row2\" class=\"row_heading level0 row2\" >Monday</th>\n",
       "      <td id=\"T_500a2_row2_col0\" class=\"data row2 col0\" >911743</td>\n",
       "    </tr>\n",
       "    <tr>\n",
       "      <th id=\"T_500a2_level0_row3\" class=\"row_heading level0 row3\" >Saturday</th>\n",
       "      <td id=\"T_500a2_row3_col0\" class=\"data row3 col0\" >885492</td>\n",
       "    </tr>\n",
       "    <tr>\n",
       "      <th id=\"T_500a2_level0_row4\" class=\"row_heading level0 row4\" >Thursday</th>\n",
       "      <td id=\"T_500a2_row4_col0\" class=\"data row4 col0\" >861999</td>\n",
       "    </tr>\n",
       "    <tr>\n",
       "      <th id=\"T_500a2_level0_row5\" class=\"row_heading level0 row5\" >Tuesday</th>\n",
       "      <td id=\"T_500a2_row5_col0\" class=\"data row5 col0\" >858596</td>\n",
       "    </tr>\n",
       "    <tr>\n",
       "      <th id=\"T_500a2_level0_row6\" class=\"row_heading level0 row6\" >Sunday</th>\n",
       "      <td id=\"T_500a2_row6_col0\" class=\"data row6 col0\" >780194</td>\n",
       "    </tr>\n",
       "  </tbody>\n",
       "</table>\n"
      ],
      "text/plain": [
       "<pandas.io.formats.style.Styler at 0x24756715610>"
      ]
     },
     "execution_count": 21,
     "metadata": {},
     "output_type": "execute_result"
    }
   ],
   "source": [
    "df_Days=pd.DataFrame(df.groupby('WeekDay').sum()['Rented Bike Count'].sort_values(ascending=False))\n",
    "df_Days.style.background_gradient(cmap=sns.light_palette(\"red\", as_cmap=True))"
   ]
  },
  {
   "cell_type": "markdown",
   "id": "00ee723e",
   "metadata": {},
   "source": [
    "Days with highest rented bike are week days.\n",
    "So we suppose people rent bikes to go to work or school"
   ]
  },
  {
   "cell_type": "code",
   "execution_count": 22,
   "id": "88df564e",
   "metadata": {},
   "outputs": [
    {
     "data": {
      "text/plain": [
       "<AxesSubplot:xlabel='Temperature(°C)'>"
      ]
     },
     "execution_count": 22,
     "metadata": {},
     "output_type": "execute_result"
    },
    {
     "data": {
      "image/png": "[encoded data removed]",
      "text/plain": [
       "<Figure size 432x288 with 1 Axes>"
      ]
     },
     "metadata": {},
     "output_type": "display_data"
    }
   ],
   "source": [
    "df.groupby('Temperature(°C)').mean()['Rented Bike Count'].plot()"
   ]
  },
  {
   "cell_type": "markdown",
   "id": "27b703ef",
   "metadata": {},
   "source": [
    "people like to ride bikes when it is pretty hot around 25°C in average"
   ]
  },
  {
   "cell_type": "code",
   "execution_count": 23,
   "id": "abb336ca",
   "metadata": {},
   "outputs": [
    {
     "data": {
      "text/plain": [
       "<AxesSubplot:ylabel='Rented Bike Count'>"
      ]
     },
     "execution_count": 23,
     "metadata": {},
     "output_type": "execute_result"
    },
    {
     "data": {
      "image/png": "[encoded data removed]",
      "text/plain": [
       "<Figure size 432x288 with 1 Axes>"
      ]
     },
     "metadata": {},
     "output_type": "display_data"
    }
   ],
   "source": [
    "## Let's see the repartition of the rents following the moment of the day\n",
    "df.groupby('label_day_night').sum()['Rented Bike Count'].plot.pie(autopct='%1.1f%%')\n"
   ]
  },
  {
   "cell_type": "markdown",
   "id": "ac40c61e",
   "metadata": {},
   "source": [
    "People tend to ride bike more in the day than night"
   ]
  },
  {
   "cell_type": "code",
   "execution_count": 24,
   "id": "5cc3926e",
   "metadata": {},
   "outputs": [
    {
     "data": {
      "text/plain": [
       "<AxesSubplot:ylabel='Rented Bike Count'>"
      ]
     },
     "execution_count": 24,
     "metadata": {},
     "output_type": "execute_result"
    },
    {
     "data": {
      "image/png": "[encoded data removed]",
      "text/plain": [
       "<Figure size 432x288 with 1 Axes>"
      ]
     },
     "metadata": {},
     "output_type": "display_data"
    }
   ],
   "source": [
    "## Let's do a visualisation during the holidays\n",
    "df.groupby('Holiday').sum()['Rented Bike Count'].plot.pie(autopct='%1.1f%%')\n"
   ]
  },
  {
   "cell_type": "markdown",
   "id": "18b8c567",
   "metadata": {},
   "source": [
    "Mostly, people tend to rent bikes on non-holidays. It means that people probably rent bikes to go to school or work \n",
    "\n"
   ]
  },
  {
   "cell_type": "code",
   "execution_count": 25,
   "id": "f90597e3",
   "metadata": {},
   "outputs": [
    {
     "data": {
      "text/plain": [
       "(432, 16)"
      ]
     },
     "execution_count": 25,
     "metadata": {},
     "output_type": "execute_result"
    }
   ],
   "source": [
    "## We see that holiday rent are very low so let's see on which period extends holidays\n",
    "dfHoliday=df.loc[df['Holiday'] == 'Holiday']\n",
    "dfHoliday.shape"
   ]
  },
  {
   "cell_type": "markdown",
   "id": "7adb04be",
   "metadata": {},
   "source": [
    "The shape of this is 432 lines and 16 columns, it means that there are only 16 days of holidays which is very short. And that explains why the proportion of rents during holiday is low. So we understand that this column is not that important"
   ]
  },
  {
   "cell_type": "markdown",
   "id": "cb18e4f7",
   "metadata": {},
   "source": [
    "## Let's plot the rent of bikes following the state of the weather"
   ]
  },
  {
   "cell_type": "code",
   "execution_count": 26,
   "id": "522094e9",
   "metadata": {},
   "outputs": [
    {
     "data": {
      "text/plain": [
       "<AxesSubplot:xlabel='Rainfall(mm)'>"
      ]
     },
     "execution_count": 26,
     "metadata": {},
     "output_type": "execute_result"
    },
    {
     "data": {
      "image/png": "[encoded data removed]",
      "text/plain": [
       "<Figure size 432x288 with 1 Axes>"
      ]
     },
     "metadata": {},
     "output_type": "display_data"
    }
   ],
   "source": [
    "df.groupby('Rainfall(mm)').mean()['Rented Bike Count'].plot()"
   ]
  },
  {
   "cell_type": "markdown",
   "id": "9e60199c",
   "metadata": {},
   "source": [
    "We can see that, when it rain a lot people dont tend to rent bikes. Only in a few situations are bike rents higher when it rain. For example when we had around 20 mm of rain there is a big peak of rented bikes"
   ]
  },
  {
   "cell_type": "code",
   "execution_count": 27,
   "id": "57134c98",
   "metadata": {},
   "outputs": [
    {
     "data": {
      "text/html": [
       "<div>\n",
       "<style scoped>\n",
       "    .dataframe tbody tr th:only-of-type {\n",
       "        vertical-align: middle;\n",
       "    }\n",
       "\n",
       "    .dataframe tbody tr th {\n",
       "        vertical-align: top;\n",
       "    }\n",
       "\n",
       "    .dataframe thead th {\n",
       "        text-align: right;\n",
       "    }\n",
       "</style>\n",
       "<table border=\"1\" class=\"dataframe\">\n",
       "  <thead>\n",
       "    <tr style=\"text-align: right;\">\n",
       "      <th></th>\n",
       "      <th>Date</th>\n",
       "      <th>Rented Bike Count</th>\n",
       "      <th>Hour</th>\n",
       "      <th>Temperature(°C)</th>\n",
       "      <th>Humidity(%)</th>\n",
       "      <th>Wind speed (m/s)</th>\n",
       "      <th>Visibility (10m)</th>\n",
       "      <th>Solar Radiation (MJ/m2)</th>\n",
       "      <th>Rainfall(mm)</th>\n",
       "      <th>Snowfall (cm)</th>\n",
       "      <th>Seasons</th>\n",
       "      <th>Holiday</th>\n",
       "      <th>Functioning Day</th>\n",
       "      <th>label_day_night</th>\n",
       "      <th>WeekDay</th>\n",
       "      <th>Month</th>\n",
       "    </tr>\n",
       "  </thead>\n",
       "  <tbody>\n",
       "    <tr>\n",
       "      <th>5034</th>\n",
       "      <td>2018-06-28</td>\n",
       "      <td>596</td>\n",
       "      <td>18</td>\n",
       "      <td>20.6</td>\n",
       "      <td>97</td>\n",
       "      <td>0.7</td>\n",
       "      <td>222</td>\n",
       "      <td>0.14</td>\n",
       "      <td>21.5</td>\n",
       "      <td>0.0</td>\n",
       "      <td>Summer</td>\n",
       "      <td>No Holiday</td>\n",
       "      <td>Yes</td>\n",
       "      <td>Day</td>\n",
       "      <td>Thursday</td>\n",
       "      <td>6</td>\n",
       "    </tr>\n",
       "    <tr>\n",
       "      <th>5132</th>\n",
       "      <td>2018-07-02</td>\n",
       "      <td>61</td>\n",
       "      <td>20</td>\n",
       "      <td>23.5</td>\n",
       "      <td>97</td>\n",
       "      <td>0.1</td>\n",
       "      <td>1814</td>\n",
       "      <td>0.04</td>\n",
       "      <td>24.0</td>\n",
       "      <td>0.0</td>\n",
       "      <td>Summer</td>\n",
       "      <td>No Holiday</td>\n",
       "      <td>Yes</td>\n",
       "      <td>Day</td>\n",
       "      <td>Monday</td>\n",
       "      <td>7</td>\n",
       "    </tr>\n",
       "    <tr>\n",
       "      <th>6524</th>\n",
       "      <td>2018-08-29</td>\n",
       "      <td>19</td>\n",
       "      <td>20</td>\n",
       "      <td>23.4</td>\n",
       "      <td>98</td>\n",
       "      <td>0.6</td>\n",
       "      <td>70</td>\n",
       "      <td>0.00</td>\n",
       "      <td>21.0</td>\n",
       "      <td>0.0</td>\n",
       "      <td>Summer</td>\n",
       "      <td>No Holiday</td>\n",
       "      <td>Yes</td>\n",
       "      <td>Day</td>\n",
       "      <td>Wednesday</td>\n",
       "      <td>8</td>\n",
       "    </tr>\n",
       "  </tbody>\n",
       "</table>\n",
       "</div>"
      ],
      "text/plain": [
       "           Date  Rented Bike Count  Hour  Temperature(°C)  Humidity(%)  \\\n",
       "5034 2018-06-28                596    18             20.6           97   \n",
       "5132 2018-07-02                 61    20             23.5           97   \n",
       "6524 2018-08-29                 19    20             23.4           98   \n",
       "\n",
       "      Wind speed (m/s)  Visibility (10m)  Solar Radiation (MJ/m2)  \\\n",
       "5034               0.7               222                     0.14   \n",
       "5132               0.1              1814                     0.04   \n",
       "6524               0.6                70                     0.00   \n",
       "\n",
       "      Rainfall(mm)  Snowfall (cm) Seasons     Holiday Functioning Day  \\\n",
       "5034          21.5            0.0  Summer  No Holiday             Yes   \n",
       "5132          24.0            0.0  Summer  No Holiday             Yes   \n",
       "6524          21.0            0.0  Summer  No Holiday             Yes   \n",
       "\n",
       "     label_day_night    WeekDay  Month  \n",
       "5034             Day   Thursday      6  \n",
       "5132             Day     Monday      7  \n",
       "6524             Day  Wednesday      8  "
      ]
     },
     "execution_count": 27,
     "metadata": {},
     "output_type": "execute_result"
    }
   ],
   "source": [
    "## This raise between 20 and 25 mm of rainfall seems very contradictory, so we decide to explain this\n",
    "\n",
    "df.loc[(df['Rainfall(mm)']>20)&(df['Rainfall(mm)']<25)]"
   ]
  },
  {
   "cell_type": "markdown",
   "id": "7295b174",
   "metadata": {},
   "source": [
    "We can see that these days of rainfall are in the summer and the T° is not bad, furthermore theses are Week Days, that's why we have so much rented bike even if the rain is so important"
   ]
  },
  {
   "cell_type": "code",
   "execution_count": 28,
   "id": "8b435cc5",
   "metadata": {},
   "outputs": [
    {
     "data": {
      "text/plain": [
       "<AxesSubplot:xlabel='Snowfall (cm)'>"
      ]
     },
     "execution_count": 28,
     "metadata": {},
     "output_type": "execute_result"
    },
    {
     "data": {
      "image/png": "[encoded data removed]",
      "text/plain": [
       "<Figure size 432x288 with 1 Axes>"
      ]
     },
     "metadata": {},
     "output_type": "display_data"
    }
   ],
   "source": [
    "df.groupby('Snowfall (cm)').mean()['Rented Bike Count'].plot()"
   ]
  },
  {
   "cell_type": "markdown",
   "id": "f76cf05a",
   "metadata": {},
   "source": [
    "We can see on the y-axis, the amount of rents is very low\n",
    "When we have more than 4 cm of snow"
   ]
  },
  {
   "cell_type": "code",
   "execution_count": 29,
   "id": "9dbe9676",
   "metadata": {},
   "outputs": [],
   "source": [
    "## We create the variable to encode WeekDay\n",
    "mapping_dictDay={'Monday':1,'Tuesday':2,'Wednesday':3,'Thursday':4,'Friday':5,'Saturday':6,'Sunday':7}\n",
    "\n",
    "df['WeekDay']=df['WeekDay'].map(mapping_dictDay)\n"
   ]
  },
  {
   "cell_type": "code",
   "execution_count": 30,
   "id": "25e133d7",
   "metadata": {
    "scrolled": true
   },
   "outputs": [
    {
     "data": {
      "text/html": [
       "<div>\n",
       "<style scoped>\n",
       "    .dataframe tbody tr th:only-of-type {\n",
       "        vertical-align: middle;\n",
       "    }\n",
       "\n",
       "    .dataframe tbody tr th {\n",
       "        vertical-align: top;\n",
       "    }\n",
       "\n",
       "    .dataframe thead th {\n",
       "        text-align: right;\n",
       "    }\n",
       "</style>\n",
       "<table border=\"1\" class=\"dataframe\">\n",
       "  <thead>\n",
       "    <tr style=\"text-align: right;\">\n",
       "      <th></th>\n",
       "      <th>Date</th>\n",
       "      <th>Rented Bike Count</th>\n",
       "      <th>Hour</th>\n",
       "      <th>Temperature(°C)</th>\n",
       "      <th>Humidity(%)</th>\n",
       "      <th>Wind speed (m/s)</th>\n",
       "      <th>Visibility (10m)</th>\n",
       "      <th>Solar Radiation (MJ/m2)</th>\n",
       "      <th>Rainfall(mm)</th>\n",
       "      <th>Snowfall (cm)</th>\n",
       "      <th>Seasons</th>\n",
       "      <th>Holiday</th>\n",
       "      <th>Functioning Day</th>\n",
       "      <th>label_day_night</th>\n",
       "      <th>WeekDay</th>\n",
       "      <th>Month</th>\n",
       "    </tr>\n",
       "  </thead>\n",
       "  <tbody>\n",
       "    <tr>\n",
       "      <th>0</th>\n",
       "      <td>2017-12-01</td>\n",
       "      <td>254</td>\n",
       "      <td>0</td>\n",
       "      <td>-5.2</td>\n",
       "      <td>37</td>\n",
       "      <td>2.2</td>\n",
       "      <td>2000</td>\n",
       "      <td>0.0</td>\n",
       "      <td>0.0</td>\n",
       "      <td>0.0</td>\n",
       "      <td>Winter</td>\n",
       "      <td>No Holiday</td>\n",
       "      <td>Yes</td>\n",
       "      <td>Night</td>\n",
       "      <td>5</td>\n",
       "      <td>12</td>\n",
       "    </tr>\n",
       "    <tr>\n",
       "      <th>1</th>\n",
       "      <td>2017-12-01</td>\n",
       "      <td>204</td>\n",
       "      <td>1</td>\n",
       "      <td>-5.5</td>\n",
       "      <td>38</td>\n",
       "      <td>0.8</td>\n",
       "      <td>2000</td>\n",
       "      <td>0.0</td>\n",
       "      <td>0.0</td>\n",
       "      <td>0.0</td>\n",
       "      <td>Winter</td>\n",
       "      <td>No Holiday</td>\n",
       "      <td>Yes</td>\n",
       "      <td>Night</td>\n",
       "      <td>5</td>\n",
       "      <td>12</td>\n",
       "    </tr>\n",
       "    <tr>\n",
       "      <th>2</th>\n",
       "      <td>2017-12-01</td>\n",
       "      <td>173</td>\n",
       "      <td>2</td>\n",
       "      <td>-6.0</td>\n",
       "      <td>39</td>\n",
       "      <td>1.0</td>\n",
       "      <td>2000</td>\n",
       "      <td>0.0</td>\n",
       "      <td>0.0</td>\n",
       "      <td>0.0</td>\n",
       "      <td>Winter</td>\n",
       "      <td>No Holiday</td>\n",
       "      <td>Yes</td>\n",
       "      <td>Night</td>\n",
       "      <td>5</td>\n",
       "      <td>12</td>\n",
       "    </tr>\n",
       "    <tr>\n",
       "      <th>3</th>\n",
       "      <td>2017-12-01</td>\n",
       "      <td>107</td>\n",
       "      <td>3</td>\n",
       "      <td>-6.2</td>\n",
       "      <td>40</td>\n",
       "      <td>0.9</td>\n",
       "      <td>2000</td>\n",
       "      <td>0.0</td>\n",
       "      <td>0.0</td>\n",
       "      <td>0.0</td>\n",
       "      <td>Winter</td>\n",
       "      <td>No Holiday</td>\n",
       "      <td>Yes</td>\n",
       "      <td>Night</td>\n",
       "      <td>5</td>\n",
       "      <td>12</td>\n",
       "    </tr>\n",
       "    <tr>\n",
       "      <th>4</th>\n",
       "      <td>2017-12-01</td>\n",
       "      <td>78</td>\n",
       "      <td>4</td>\n",
       "      <td>-6.0</td>\n",
       "      <td>36</td>\n",
       "      <td>2.3</td>\n",
       "      <td>2000</td>\n",
       "      <td>0.0</td>\n",
       "      <td>0.0</td>\n",
       "      <td>0.0</td>\n",
       "      <td>Winter</td>\n",
       "      <td>No Holiday</td>\n",
       "      <td>Yes</td>\n",
       "      <td>Night</td>\n",
       "      <td>5</td>\n",
       "      <td>12</td>\n",
       "    </tr>\n",
       "  </tbody>\n",
       "</table>\n",
       "</div>"
      ],
      "text/plain": [
       "        Date  Rented Bike Count  Hour  Temperature(°C)  Humidity(%)  \\\n",
       "0 2017-12-01                254     0             -5.2           37   \n",
       "1 2017-12-01                204     1             -5.5           38   \n",
       "2 2017-12-01                173     2             -6.0           39   \n",
       "3 2017-12-01                107     3             -6.2           40   \n",
       "4 2017-12-01                 78     4             -6.0           36   \n",
       "\n",
       "   Wind speed (m/s)  Visibility (10m)  Solar Radiation (MJ/m2)  Rainfall(mm)  \\\n",
       "0               2.2              2000                      0.0           0.0   \n",
       "1               0.8              2000                      0.0           0.0   \n",
       "2               1.0              2000                      0.0           0.0   \n",
       "3               0.9              2000                      0.0           0.0   \n",
       "4               2.3              2000                      0.0           0.0   \n",
       "\n",
       "   Snowfall (cm) Seasons     Holiday Functioning Day label_day_night  WeekDay  \\\n",
       "0            0.0  Winter  No Holiday             Yes           Night        5   \n",
       "1            0.0  Winter  No Holiday             Yes           Night        5   \n",
       "2            0.0  Winter  No Holiday             Yes           Night        5   \n",
       "3            0.0  Winter  No Holiday             Yes           Night        5   \n",
       "4            0.0  Winter  No Holiday             Yes           Night        5   \n",
       "\n",
       "   Month  \n",
       "0     12  \n",
       "1     12  \n",
       "2     12  \n",
       "3     12  \n",
       "4     12  "
      ]
     },
     "execution_count": 30,
     "metadata": {},
     "output_type": "execute_result"
    }
   ],
   "source": [
    "df.head()"
   ]
  },
  {
   "cell_type": "markdown",
   "id": "c9ebf2d9",
   "metadata": {},
   "source": [
    "## We have to keep in mind that the most correlated features to the target are :\n",
    "\n",
    "- the hour\n",
    "- the temperature\n",
    "\n",
    "We have to drop some features that are not important to our target"
   ]
  },
  {
   "cell_type": "code",
   "execution_count": 31,
   "id": "99748eef",
   "metadata": {},
   "outputs": [
    {
     "data": {
      "text/plain": [
       "(8760, 11)"
      ]
     },
     "execution_count": 31,
     "metadata": {},
     "output_type": "execute_result"
    }
   ],
   "source": [
    "df.drop(['Date','label_day_night','Seasons','Holiday','Functioning Day'],axis =1, inplace=True)\n",
    "df.shape"
   ]
  },
  {
   "cell_type": "code",
   "execution_count": 32,
   "id": "d4f6dc18",
   "metadata": {},
   "outputs": [
    {
     "data": {
      "text/html": [
       "<div>\n",
       "<style scoped>\n",
       "    .dataframe tbody tr th:only-of-type {\n",
       "        vertical-align: middle;\n",
       "    }\n",
       "\n",
       "    .dataframe tbody tr th {\n",
       "        vertical-align: top;\n",
       "    }\n",
       "\n",
       "    .dataframe thead th {\n",
       "        text-align: right;\n",
       "    }\n",
       "</style>\n",
       "<table border=\"1\" class=\"dataframe\">\n",
       "  <thead>\n",
       "    <tr style=\"text-align: right;\">\n",
       "      <th></th>\n",
       "      <th>Rented Bike Count</th>\n",
       "      <th>Hour</th>\n",
       "      <th>Temperature(°C)</th>\n",
       "      <th>Humidity(%)</th>\n",
       "      <th>Wind speed (m/s)</th>\n",
       "      <th>Visibility (10m)</th>\n",
       "      <th>Solar Radiation (MJ/m2)</th>\n",
       "      <th>Rainfall(mm)</th>\n",
       "      <th>Snowfall (cm)</th>\n",
       "      <th>WeekDay</th>\n",
       "      <th>Month</th>\n",
       "    </tr>\n",
       "  </thead>\n",
       "  <tbody>\n",
       "    <tr>\n",
       "      <th>0</th>\n",
       "      <td>254</td>\n",
       "      <td>0</td>\n",
       "      <td>-5.2</td>\n",
       "      <td>37</td>\n",
       "      <td>2.2</td>\n",
       "      <td>2000</td>\n",
       "      <td>0.0</td>\n",
       "      <td>0.0</td>\n",
       "      <td>0.0</td>\n",
       "      <td>5</td>\n",
       "      <td>12</td>\n",
       "    </tr>\n",
       "    <tr>\n",
       "      <th>1</th>\n",
       "      <td>204</td>\n",
       "      <td>1</td>\n",
       "      <td>-5.5</td>\n",
       "      <td>38</td>\n",
       "      <td>0.8</td>\n",
       "      <td>2000</td>\n",
       "      <td>0.0</td>\n",
       "      <td>0.0</td>\n",
       "      <td>0.0</td>\n",
       "      <td>5</td>\n",
       "      <td>12</td>\n",
       "    </tr>\n",
       "    <tr>\n",
       "      <th>2</th>\n",
       "      <td>173</td>\n",
       "      <td>2</td>\n",
       "      <td>-6.0</td>\n",
       "      <td>39</td>\n",
       "      <td>1.0</td>\n",
       "      <td>2000</td>\n",
       "      <td>0.0</td>\n",
       "      <td>0.0</td>\n",
       "      <td>0.0</td>\n",
       "      <td>5</td>\n",
       "      <td>12</td>\n",
       "    </tr>\n",
       "    <tr>\n",
       "      <th>3</th>\n",
       "      <td>107</td>\n",
       "      <td>3</td>\n",
       "      <td>-6.2</td>\n",
       "      <td>40</td>\n",
       "      <td>0.9</td>\n",
       "      <td>2000</td>\n",
       "      <td>0.0</td>\n",
       "      <td>0.0</td>\n",
       "      <td>0.0</td>\n",
       "      <td>5</td>\n",
       "      <td>12</td>\n",
       "    </tr>\n",
       "    <tr>\n",
       "      <th>4</th>\n",
       "      <td>78</td>\n",
       "      <td>4</td>\n",
       "      <td>-6.0</td>\n",
       "      <td>36</td>\n",
       "      <td>2.3</td>\n",
       "      <td>2000</td>\n",
       "      <td>0.0</td>\n",
       "      <td>0.0</td>\n",
       "      <td>0.0</td>\n",
       "      <td>5</td>\n",
       "      <td>12</td>\n",
       "    </tr>\n",
       "  </tbody>\n",
       "</table>\n",
       "</div>"
      ],
      "text/plain": [
       "   Rented Bike Count  Hour  Temperature(°C)  Humidity(%)  Wind speed (m/s)  \\\n",
       "0                254     0             -5.2           37               2.2   \n",
       "1                204     1             -5.5           38               0.8   \n",
       "2                173     2             -6.0           39               1.0   \n",
       "3                107     3             -6.2           40               0.9   \n",
       "4                 78     4             -6.0           36               2.3   \n",
       "\n",
       "   Visibility (10m)  Solar Radiation (MJ/m2)  Rainfall(mm)  Snowfall (cm)  \\\n",
       "0              2000                      0.0           0.0            0.0   \n",
       "1              2000                      0.0           0.0            0.0   \n",
       "2              2000                      0.0           0.0            0.0   \n",
       "3              2000                      0.0           0.0            0.0   \n",
       "4              2000                      0.0           0.0            0.0   \n",
       "\n",
       "   WeekDay  Month  \n",
       "0        5     12  \n",
       "1        5     12  \n",
       "2        5     12  \n",
       "3        5     12  \n",
       "4        5     12  "
      ]
     },
     "execution_count": 32,
     "metadata": {},
     "output_type": "execute_result"
    }
   ],
   "source": [
    "df.head()"
   ]
  },
  {
   "cell_type": "code",
   "execution_count": 33,
   "id": "081bdb01",
   "metadata": {},
   "outputs": [
    {
     "name": "stdout",
     "output_type": "stream",
     "text": [
      "<class 'pandas.core.frame.DataFrame'>\n",
      "RangeIndex: 8760 entries, 0 to 8759\n",
      "Data columns (total 11 columns):\n",
      " #   Column                   Non-Null Count  Dtype  \n",
      "---  ------                   --------------  -----  \n",
      " 0   Rented Bike Count        8760 non-null   int64  \n",
      " 1   Hour                     8760 non-null   int64  \n",
      " 2   Temperature(°C)          8760 non-null   float64\n",
      " 3   Humidity(%)              8760 non-null   int64  \n",
      " 4   Wind speed (m/s)         8760 non-null   float64\n",
      " 5   Visibility (10m)         8760 non-null   int64  \n",
      " 6   Solar Radiation (MJ/m2)  8760 non-null   float64\n",
      " 7   Rainfall(mm)             8760 non-null   float64\n",
      " 8   Snowfall (cm)            8760 non-null   float64\n",
      " 9   WeekDay                  8760 non-null   int64  \n",
      " 10  Month                    8760 non-null   int64  \n",
      "dtypes: float64(5), int64(6)\n",
      "memory usage: 752.9 KB\n"
     ]
    }
   ],
   "source": [
    "df.info()"
   ]
  },
  {
   "cell_type": "markdown",
   "id": "29047257",
   "metadata": {},
   "source": [
    "## Feature Selection"
   ]
  },
  {
   "cell_type": "code",
   "execution_count": 34,
   "id": "040ab499",
   "metadata": {},
   "outputs": [],
   "source": [
    "X = df.drop(['Rented Bike Count'], axis=1)\n",
    "y = df['Rented Bike Count']"
   ]
  },
  {
   "cell_type": "markdown",
   "id": "62cbe787",
   "metadata": {},
   "source": [
    "## Model Building"
   ]
  },
  {
   "cell_type": "code",
   "execution_count": 35,
   "id": "1e672bed",
   "metadata": {},
   "outputs": [],
   "source": [
    "from sklearn.model_selection import train_test_split\n",
    "from sklearn import preprocessing\n",
    "from sklearn import linear_model\n",
    "from sklearn.metrics import r2_score,mean_squared_error\n",
    "from sklearn.linear_model import Ridge\n",
    "from sklearn.model_selection import GridSearchCV\n",
    "from sklearn.linear_model import Lasso\n",
    "from sklearn.svm import SVR\n",
    "from sklearn.tree import DecisionTreeRegressor\n",
    "from sklearn.ensemble import RandomForestRegressor\n",
    "from sklearn.ensemble import ExtraTreesRegressor\n",
    "from sklearn.linear_model import LinearRegression\n",
    "import math"
   ]
  },
  {
   "cell_type": "code",
   "execution_count": 36,
   "id": "0cfba0d4",
   "metadata": {},
   "outputs": [],
   "source": [
    "X_train, X_test, y_train, y_test = train_test_split(X,y, test_size=0.25,random_state=42)"
   ]
  },
  {
   "cell_type": "code",
   "execution_count": 37,
   "id": "9d24e80b",
   "metadata": {},
   "outputs": [],
   "source": [
    "## Lets scale the data first\n",
    "#from sklearn.preprocessing import StandardScaler\n",
    "\n",
    "#scalerTrain = preprocessing.StandardScaler().fit(X_train)\n",
    "#scalerTest = preprocessing.StandardScaler().fit(X_test)\n",
    "#X_train_Scaled=scalerTrain.transform(X_train)\n",
    "#X_test_Scaled=scalerTest.transform(X_test)"
   ]
  },
  {
   "cell_type": "code",
   "execution_count": 38,
   "id": "31627199",
   "metadata": {},
   "outputs": [],
   "source": [
    "## Create an object to report the results\n",
    "reporting_r2={}\n",
    "reporting_rmse={}"
   ]
  },
  {
   "cell_type": "markdown",
   "id": "7e8ed5fd",
   "metadata": {},
   "source": [
    "## Decision Tree"
   ]
  },
  {
   "cell_type": "code",
   "execution_count": 39,
   "id": "3a0de5b6",
   "metadata": {},
   "outputs": [
    {
     "name": "stdout",
     "output_type": "stream",
     "text": [
      "RMSE:  366.927283055142\n"
     ]
    }
   ],
   "source": [
    "dt = DecisionTreeRegressor().fit(X_train,y_train)\n",
    "dt_pred1 = dt.predict(X_test)\n",
    "dtRMSE = math.sqrt(mean_squared_error(dt_pred1, y_test))\n",
    "print(\"RMSE: \", dtRMSE)"
   ]
  },
  {
   "cell_type": "code",
   "execution_count": 40,
   "id": "0a2ec341",
   "metadata": {},
   "outputs": [
    {
     "name": "stdout",
     "output_type": "stream",
     "text": [
      "DecisionTreeRegressor(criterion='absolute_error', max_depth=10)\n"
     ]
    }
   ],
   "source": [
    "\n",
    "dt_param = {  \"criterion\": ['squared_error','absolute_error'],\n",
    "              \"max_depth\": [2, 6, 8,10,12,14,16],\n",
    "              \n",
    "              }\n",
    "\n",
    "dt_gridsearch =GridSearchCV(estimator=dt,param_grid=dt_param,scoring=['r2','neg_root_mean_squared_error'],\n",
    "                            refit='neg_root_mean_squared_error',\n",
    "                            cv=10, n_jobs=-2)\n",
    "dt_gridsearch.fit(X_train.values,y_train)\n",
    "\n",
    "print(dt_gridsearch.best_estimator_)"
   ]
  },
  {
   "cell_type": "code",
   "execution_count": 41,
   "id": "042435a0",
   "metadata": {},
   "outputs": [
    {
     "name": "stdout",
     "output_type": "stream",
     "text": [
      "CPU times: total: 688 ms\n",
      "Wall time: 712 ms\n"
     ]
    }
   ],
   "source": [
    "%%time\n",
    "dt_model = DecisionTreeRegressor(criterion='absolute_error',max_depth=10).fit(X_train,y_train)\n"
   ]
  },
  {
   "cell_type": "code",
   "execution_count": 42,
   "id": "7022cfa4",
   "metadata": {},
   "outputs": [
    {
     "name": "stdout",
     "output_type": "stream",
     "text": [
      "RMSE:  317.97652856287203\n"
     ]
    }
   ],
   "source": [
    "# make predictions\n",
    "dt_pred = dt_model.predict(X_test)\n",
    "\n",
    "dt_RMSE =  math.sqrt(mean_squared_error(dt_pred, y_test))\n",
    "R2_score_dt = r2_score(y_test, dt_pred)*100\n",
    "bestDecisionTree_testScore = (dt_gridsearch.best_score_)*100\n",
    "# print RMSE\n",
    "print(\"RMSE: \", dt_RMSE)"
   ]
  },
  {
   "cell_type": "code",
   "execution_count": 43,
   "id": "5982c5d3",
   "metadata": {},
   "outputs": [],
   "source": [
    "reporting_r2['Decision Tree Regressor']=bestDecisionTree_testScore\n",
    "reporting_rmse['Decision Tree Regressor']= dt_RMSE"
   ]
  },
  {
   "cell_type": "markdown",
   "id": "159ae99e",
   "metadata": {},
   "source": [
    "## Random Forest Regressor"
   ]
  },
  {
   "cell_type": "code",
   "execution_count": 44,
   "id": "e9717d78",
   "metadata": {},
   "outputs": [
    {
     "name": "stdout",
     "output_type": "stream",
     "text": [
      "RMSE:  255.06133875740844\n"
     ]
    }
   ],
   "source": [
    "rf = RandomForestRegressor().fit(X_train,y_train)\n",
    "rf_pred1 = rf.predict(X_test)\n",
    "rfRMSE = math.sqrt(mean_squared_error(rf_pred1, y_test))\n",
    "print(\"RMSE: \", rfRMSE)"
   ]
  },
  {
   "cell_type": "code",
   "execution_count": 45,
   "id": "2680dca6",
   "metadata": {
    "scrolled": true
   },
   "outputs": [
    {
     "name": "stdout",
     "output_type": "stream",
     "text": [
      "RandomForestRegressor(n_estimators=200)\n"
     ]
    }
   ],
   "source": [
    "\n",
    "## make a dictionary of hyparameter values to search\n",
    "rf_param = {\"criterion\": ['squared_error', 'absolute_error', 'poisson'],\n",
    "                 'n_estimators' : [int(x) for x in np.linspace(start=10,stop=200 , num=10)],\n",
    "                 \n",
    "            }\n",
    "rf_gridsearch = GridSearchCV(estimator=rf,\n",
    "                            param_grid=rf_param, \n",
    "                            scoring=['r2','neg_root_mean_squared_error'],\n",
    "                            refit = 'neg_root_mean_squared_error',\n",
    "                            cv = 10, n_jobs=-1)\n",
    "\n",
    "rf_gridsearch.fit(X_train.values,y_train)\n",
    "\n",
    "print(rf_gridsearch.best_estimator_) # Get complete details of the best model"
   ]
  },
  {
   "cell_type": "code",
   "execution_count": null,
   "id": "ea0fd437",
   "metadata": {},
   "outputs": [],
   "source": []
  },
  {
   "cell_type": "code",
   "execution_count": 46,
   "id": "440731a8",
   "metadata": {},
   "outputs": [
    {
     "name": "stdout",
     "output_type": "stream",
     "text": [
      "{'criterion': 'squared_error', 'n_estimators': 200}\n"
     ]
    }
   ],
   "source": [
    "print(rf_gridsearch.best_params_) # get the best parameters"
   ]
  },
  {
   "cell_type": "code",
   "execution_count": 47,
   "id": "2eac7293",
   "metadata": {},
   "outputs": [
    {
     "name": "stdout",
     "output_type": "stream",
     "text": [
      "CPU times: total: 3.77 s\n",
      "Wall time: 3.81 s\n"
     ]
    }
   ],
   "source": [
    "%%time\n",
    "## train the model with the best parameters\n",
    "rf_model = RandomForestRegressor(criterion='squared_error', n_estimators=200).fit(X_train,y_train)\n"
   ]
  },
  {
   "cell_type": "code",
   "execution_count": 48,
   "id": "ea8d0cc6",
   "metadata": {},
   "outputs": [
    {
     "name": "stdout",
     "output_type": "stream",
     "text": [
      "RMSE: 252.59\n"
     ]
    }
   ],
   "source": [
    "# make predictions\n",
    "rf_pred = rf_model.predict(X_test)\n",
    "\n",
    "rf_RMSE =  math.sqrt(mean_squared_error(rf_pred, y_test))\n",
    "R2_score_rf = r2_score(y_test, rf_pred)*100\n",
    "rf_score = (rf_gridsearch.best_score_)*100\n",
    "# print RMSE\n",
    "print(\"RMSE: %.2f\" % rf_RMSE)\n"
   ]
  },
  {
   "cell_type": "code",
   "execution_count": 49,
   "id": "e1c83a6d",
   "metadata": {},
   "outputs": [],
   "source": [
    "reporting_r2['Random Forest Regressor']=rf_score\n",
    "reporting_rmse['Random Forest Regressor']=rf_RMSE"
   ]
  },
  {
   "cell_type": "markdown",
   "id": "f53b2908",
   "metadata": {},
   "source": [
    "## Extra Tree Regressor"
   ]
  },
  {
   "cell_type": "code",
   "execution_count": 50,
   "id": "818ad32f",
   "metadata": {},
   "outputs": [
    {
     "name": "stdout",
     "output_type": "stream",
     "text": [
      "RMSE:  250.50558452237144\n"
     ]
    }
   ],
   "source": [
    "etr = ExtraTreesRegressor().fit(X_train,y_train)\n",
    "etr_pred1 = etr.predict(X_test)\n",
    "etrRMSE = math.sqrt(mean_squared_error(etr_pred1, y_test))\n",
    "print(\"RMSE: \", etrRMSE)"
   ]
  },
  {
   "cell_type": "code",
   "execution_count": 51,
   "id": "43bc19a2",
   "metadata": {},
   "outputs": [
    {
     "data": {
      "text/plain": [
       "GridSearchCV(cv=10, estimator=ExtraTreesRegressor(), n_jobs=-1,\n",
       "             param_grid={'criterion': ['squared_error', 'friedman_mse'],\n",
       "                         'n_estimators': [10, 64, 118, 173, 227, 282, 336, 391,\n",
       "                                          445, 500]},\n",
       "             refit='neg_root_mean_squared_error',\n",
       "             scoring=['r2', 'neg_root_mean_squared_error'])"
      ]
     },
     "execution_count": 51,
     "metadata": {},
     "output_type": "execute_result"
    }
   ],
   "source": [
    "etr_param = {'n_estimators' : [int(x) for x in np.linspace(start=10,stop=500, num=10)],\n",
    "             \"criterion\": ['squared_error', 'friedman_mse'],\n",
    "             \n",
    "\n",
    "            }\n",
    "\n",
    "etr_gridsearch = GridSearchCV(estimator=etr, param_grid=etr_param,\n",
    "                             scoring=['r2','neg_root_mean_squared_error'],\n",
    "                             refit = 'neg_root_mean_squared_error',\n",
    "                             cv = 10, n_jobs=-1\n",
    "                             )\n",
    "\n",
    "etr_gridsearch.fit(X_train.values, y_train)"
   ]
  },
  {
   "cell_type": "code",
   "execution_count": 52,
   "id": "87aea386",
   "metadata": {},
   "outputs": [
    {
     "name": "stdout",
     "output_type": "stream",
     "text": [
      "ExtraTreesRegressor(n_estimators=445)\n"
     ]
    }
   ],
   "source": [
    "print(etr_gridsearch.best_estimator_)"
   ]
  },
  {
   "cell_type": "code",
   "execution_count": 53,
   "id": "5a4de092",
   "metadata": {},
   "outputs": [
    {
     "name": "stdout",
     "output_type": "stream",
     "text": [
      "{'criterion': 'squared_error', 'n_estimators': 445}\n"
     ]
    }
   ],
   "source": [
    "print(etr_gridsearch.best_params_)"
   ]
  },
  {
   "cell_type": "code",
   "execution_count": 54,
   "id": "9dd48d33",
   "metadata": {},
   "outputs": [
    {
     "name": "stdout",
     "output_type": "stream",
     "text": [
      "CPU times: total: 5.5 s\n",
      "Wall time: 5.54 s\n"
     ]
    }
   ],
   "source": [
    "%%time\n",
    "## train model with best parameters\n",
    "etr_model = ExtraTreesRegressor(criterion='squared_error', n_estimators=445).fit(X_train,y_train)\n",
    "\n"
   ]
  },
  {
   "cell_type": "code",
   "execution_count": 55,
   "id": "44ac75f5",
   "metadata": {},
   "outputs": [
    {
     "name": "stdout",
     "output_type": "stream",
     "text": [
      "RMSE: 247.46\n",
      "R2 Score: 85.04\n"
     ]
    }
   ],
   "source": [
    "# make predictions\n",
    "etr_pred = etr_model.predict(X_test)\n",
    "\n",
    "etr_RMSE =  math.sqrt(mean_squared_error(etr_pred, y_test))\n",
    "R2_score_etr = r2_score(y_test, etr_pred)*100\n",
    "etr_score = (etr_gridsearch.best_score_)*100\n",
    "# print RMSE\n",
    "print(\"RMSE: %.2f\" % etr_RMSE)\n",
    "# print R2\n",
    "print(\"R2 Score: %.2f\" % R2_score_etr )\n"
   ]
  },
  {
   "cell_type": "code",
   "execution_count": 56,
   "id": "c91fc094",
   "metadata": {},
   "outputs": [],
   "source": [
    "reporting_r2['Extra Tree Regressor']=etr_score\n",
    "reporting_rmse['Extra Tree Regressor']=etr_RMSE"
   ]
  },
  {
   "cell_type": "markdown",
   "id": "ead36eec",
   "metadata": {},
   "source": [
    "## Gradient Boost"
   ]
  },
  {
   "cell_type": "code",
   "execution_count": 57,
   "id": "bb040fa5",
   "metadata": {},
   "outputs": [
    {
     "name": "stdout",
     "output_type": "stream",
     "text": [
      "RMSE:  298.74574205864803\n"
     ]
    }
   ],
   "source": [
    "from sklearn.ensemble import GradientBoostingRegressor\n",
    "gbr = GradientBoostingRegressor().fit(X_train,y_train)\n",
    "gbr_pred1 = gbr.predict(X_test)\n",
    "gbrRMSE = math.sqrt(mean_squared_error(gbr_pred1, y_test))\n",
    "print(\"RMSE: \", gbrRMSE)"
   ]
  },
  {
   "cell_type": "code",
   "execution_count": 58,
   "id": "eaf1584a",
   "metadata": {},
   "outputs": [],
   "source": [
    "gbr_param = {\n",
    "    'loss': ['squared_error', 'absolute_error', 'huber', 'quantile'],\n",
    "    'criterion': ['friedman_mse', 'squared_error'],\n",
    "    'n_estimators': [int(x) for x in np.linspace(start=100,stop=800, num=10)],\n",
    "    'learning_rate': [0.1,0.15,0.4],\n",
    "    \n",
    "}"
   ]
  },
  {
   "cell_type": "code",
   "execution_count": 59,
   "id": "cc8cbd3e",
   "metadata": {},
   "outputs": [
    {
     "data": {
      "text/plain": [
       "GridSearchCV(cv=10, estimator=GradientBoostingRegressor(), n_jobs=-2,\n",
       "             param_grid={'criterion': ['friedman_mse', 'squared_error'],\n",
       "                         'learning_rate': [0.1, 0.15, 0.4],\n",
       "                         'loss': ['squared_error', 'absolute_error', 'huber',\n",
       "                                  'quantile'],\n",
       "                         'n_estimators': [100, 177, 255, 333, 411, 488, 566,\n",
       "                                          644, 722, 800]},\n",
       "             refit='neg_root_mean_squared_error',\n",
       "             scoring=['r2', 'neg_root_mean_squared_error'])"
      ]
     },
     "execution_count": 59,
     "metadata": {},
     "output_type": "execute_result"
    }
   ],
   "source": [
    "gbr_gridsearch = GridSearchCV(estimator=gbr, param_grid=gbr_param,\n",
    "                             scoring=['r2','neg_root_mean_squared_error'],\n",
    "                             refit = 'neg_root_mean_squared_error',\n",
    "                             cv = 10, n_jobs=-2\n",
    "                             )\n",
    "\n",
    "gbr_gridsearch.fit(X_train.values, y_train)"
   ]
  },
  {
   "cell_type": "code",
   "execution_count": 62,
   "id": "bdd856d6",
   "metadata": {},
   "outputs": [
    {
     "name": "stdout",
     "output_type": "stream",
     "text": [
      "GradientBoostingRegressor(learning_rate=0.15, n_estimators=644)\n"
     ]
    }
   ],
   "source": [
    "print(gbr_gridsearch.best_estimator_)"
   ]
  },
  {
   "cell_type": "code",
   "execution_count": 63,
   "id": "ba13ec1f",
   "metadata": {},
   "outputs": [
    {
     "name": "stdout",
     "output_type": "stream",
     "text": [
      "{'criterion': 'friedman_mse', 'learning_rate': 0.15, 'loss': 'squared_error', 'n_estimators': 644}\n"
     ]
    }
   ],
   "source": [
    "print(gbr_gridsearch.best_params_)"
   ]
  },
  {
   "cell_type": "code",
   "execution_count": 64,
   "id": "7ffcbd71",
   "metadata": {},
   "outputs": [
    {
     "name": "stdout",
     "output_type": "stream",
     "text": [
      "CPU times: total: 3.56 s\n",
      "Wall time: 3.64 s\n"
     ]
    }
   ],
   "source": [
    "%%time\n",
    "## train model with best parameters\n",
    "gbr_model = GradientBoostingRegressor(criterion='squared_error', learning_rate=0.15, n_estimators=644).fit(X_train,y_train)"
   ]
  },
  {
   "cell_type": "code",
   "execution_count": 65,
   "id": "f2e04960",
   "metadata": {},
   "outputs": [
    {
     "name": "stdout",
     "output_type": "stream",
     "text": [
      "RMSE: 255.74\n",
      "R2 Score: 84.02\n"
     ]
    }
   ],
   "source": [
    "# make predictions\n",
    "gbr_pred = gbr_model.predict(X_test)\n",
    "\n",
    "gbr_RMSE =  math.sqrt(mean_squared_error(gbr_pred, y_test))\n",
    "R2_score_gbr = r2_score(y_test, gbr_pred)*100\n",
    "gbr_score = (gbr_gridsearch.best_score_)*100\n",
    "# print RMSE\n",
    "print(\"RMSE: %.2f\" % gbr_RMSE)\n",
    "# print R2\n",
    "print(\"R2 Score: %.2f\" % R2_score_gbr )\n"
   ]
  },
  {
   "cell_type": "code",
   "execution_count": 66,
   "id": "d343bf9c",
   "metadata": {},
   "outputs": [],
   "source": [
    "reporting_r2['Gradient Boost']=gbr_score\n",
    "reporting_rmse['Gradient Boost']=gbr_RMSE"
   ]
  },
  {
   "cell_type": "markdown",
   "id": "0ab38dc8",
   "metadata": {},
   "source": [
    "## Results"
   ]
  },
  {
   "cell_type": "code",
   "execution_count": 67,
   "id": "d129a36a",
   "metadata": {},
   "outputs": [],
   "source": [
    "# RMSE Results\n",
    "df_results=pd.DataFrame()\n",
    "df_results['model']=reporting_rmse.keys()\n",
    "df_results['RMSE']=reporting_rmse.values()\n",
    "\n",
    "df_results=df_results.set_index('model')\n"
   ]
  },
  {
   "cell_type": "code",
   "execution_count": 68,
   "id": "9872868b",
   "metadata": {},
   "outputs": [
    {
     "data": {
      "text/html": [
       "<style type=\"text/css\">\n",
       "#T_385dc_row0_col0 {\n",
       "  background-color: #ebf3eb;\n",
       "  color: #000000;\n",
       "}\n",
       "#T_385dc_row1_col0 {\n",
       "  background-color: #1c8e1c;\n",
       "  color: #f1f1f1;\n",
       "}\n",
       "#T_385dc_row2_col0 {\n",
       "  background-color: #118811;\n",
       "  color: #f1f1f1;\n",
       "}\n",
       "#T_385dc_row3_col0 {\n",
       "  background-color: #008000;\n",
       "  color: #f1f1f1;\n",
       "}\n",
       "</style>\n",
       "<table id=\"T_385dc\">\n",
       "  <thead>\n",
       "    <tr>\n",
       "      <th class=\"blank level0\" >&nbsp;</th>\n",
       "      <th id=\"T_385dc_level0_col0\" class=\"col_heading level0 col0\" >RMSE</th>\n",
       "    </tr>\n",
       "    <tr>\n",
       "      <th class=\"index_name level0\" >model</th>\n",
       "      <th class=\"blank col0\" >&nbsp;</th>\n",
       "    </tr>\n",
       "  </thead>\n",
       "  <tbody>\n",
       "    <tr>\n",
       "      <th id=\"T_385dc_level0_row0\" class=\"row_heading level0 row0\" >Decision Tree Regressor</th>\n",
       "      <td id=\"T_385dc_row0_col0\" class=\"data row0 col0\" >317.976529</td>\n",
       "    </tr>\n",
       "    <tr>\n",
       "      <th id=\"T_385dc_level0_row1\" class=\"row_heading level0 row1\" >Gradient Boost</th>\n",
       "      <td id=\"T_385dc_row1_col0\" class=\"data row1 col0\" >255.739697</td>\n",
       "    </tr>\n",
       "    <tr>\n",
       "      <th id=\"T_385dc_level0_row2\" class=\"row_heading level0 row2\" >Random Forest Regressor</th>\n",
       "      <td id=\"T_385dc_row2_col0\" class=\"data row2 col0\" >252.588976</td>\n",
       "    </tr>\n",
       "    <tr>\n",
       "      <th id=\"T_385dc_level0_row3\" class=\"row_heading level0 row3\" >Extra Tree Regressor</th>\n",
       "      <td id=\"T_385dc_row3_col0\" class=\"data row3 col0\" >247.458991</td>\n",
       "    </tr>\n",
       "  </tbody>\n",
       "</table>\n"
      ],
      "text/plain": [
       "<pandas.io.formats.style.Styler at 0x2476ded22e0>"
      ]
     },
     "execution_count": 68,
     "metadata": {},
     "output_type": "execute_result"
    }
   ],
   "source": [
    "dfVizModels=pd.DataFrame(df_results['RMSE'].sort_values(ascending=False))\n",
    "dfVizModels.style.background_gradient(cmap=sns.light_palette(\"green\", reverse='True', as_cmap=True))"
   ]
  },
  {
   "cell_type": "markdown",
   "id": "9347d1e0",
   "metadata": {},
   "source": [
    "From the results above, it is evident that the Extra Tree regressor is the best performing model."
   ]
  },
  {
   "cell_type": "markdown",
   "id": "c86d3b7a",
   "metadata": {},
   "source": [
    "## Feature Importance"
   ]
  },
  {
   "cell_type": "code",
   "execution_count": 69,
   "id": "1528bd00",
   "metadata": {},
   "outputs": [
    {
     "data": {
      "text/plain": [
       "Temperature(°C)            0.350082\n",
       "Hour                       0.283295\n",
       "Solar Radiation (MJ/m2)    0.102538\n",
       "Humidity(%)                0.085623\n",
       "WeekDay                    0.046440\n",
       "Month                      0.044234\n",
       "Rainfall(mm)               0.035415\n",
       "Visibility (10m)           0.026444\n",
       "Wind speed (m/s)           0.025375\n",
       "Snowfall (cm)              0.000555\n",
       "dtype: float64"
      ]
     },
     "execution_count": 69,
     "metadata": {},
     "output_type": "execute_result"
    }
   ],
   "source": [
    "importances = rf_model.feature_importances_\n",
    "\n",
    "# view the feature scores\n",
    "feature_scores = pd.Series(importances, index=X_train.columns).sort_values(ascending=False)\n",
    "feature_scores"
   ]
  },
  {
   "cell_type": "markdown",
   "id": "5684201d",
   "metadata": {},
   "source": [
    "## Visualize the feature scores"
   ]
  },
  {
   "cell_type": "code",
   "execution_count": 70,
   "id": "6d8fb935",
   "metadata": {},
   "outputs": [
    {
     "data": {
      "text/plain": [
       "<AxesSubplot:>"
      ]
     },
     "execution_count": 70,
     "metadata": {},
     "output_type": "execute_result"
    },
    {
     "data": {
      "image/png": "[encoded data removed]",
      "text/plain": [
       "<Figure size 864x576 with 1 Axes>"
      ]
     },
     "metadata": {},
     "output_type": "display_data"
    }
   ],
   "source": [
    "importances = pd.Series(rf_model.feature_importances_,index=X.columns)\n",
    "importances.sort_values().plot(kind='barh', \n",
    "                 figsize=(12,8))"
   ]
  },
  {
   "cell_type": "markdown",
   "id": "b83ac8a4",
   "metadata": {},
   "source": [
    "It is evident from the graph that, the temperature and Hour of the day are the most important features and Snowfall is the least important feature"
   ]
  },
  {
   "cell_type": "markdown",
   "id": "49c822ee",
   "metadata": {},
   "source": [
    "## Save Model"
   ]
  },
  {
   "cell_type": "code",
   "execution_count": 71,
   "id": "87f66f03",
   "metadata": {},
   "outputs": [],
   "source": [
    "import pickle\n",
    "pickle.dump(etr_model, open(\"model.pkl\",'wb'))\n"
   ]
  },
  {
   "cell_type": "code",
   "execution_count": 72,
   "id": "a1d413cf",
   "metadata": {},
   "outputs": [],
   "source": [
    "##load the model\n",
    "model=pickle.load(open(\"model.pkl\",'rb'))"
   ]
  },
  {
   "cell_type": "code",
   "execution_count": 73,
   "id": "24100f07",
   "metadata": {},
   "outputs": [
    {
     "data": {
      "text/html": [
       "<div>\n",
       "<style scoped>\n",
       "    .dataframe tbody tr th:only-of-type {\n",
       "        vertical-align: middle;\n",
       "    }\n",
       "\n",
       "    .dataframe tbody tr th {\n",
       "        vertical-align: top;\n",
       "    }\n",
       "\n",
       "    .dataframe thead th {\n",
       "        text-align: right;\n",
       "    }\n",
       "</style>\n",
       "<table border=\"1\" class=\"dataframe\">\n",
       "  <thead>\n",
       "    <tr style=\"text-align: right;\">\n",
       "      <th></th>\n",
       "      <th>Hour</th>\n",
       "      <th>Temperature(°C)</th>\n",
       "      <th>Humidity(%)</th>\n",
       "      <th>Wind speed (m/s)</th>\n",
       "      <th>Visibility (10m)</th>\n",
       "      <th>Solar Radiation (MJ/m2)</th>\n",
       "      <th>Rainfall(mm)</th>\n",
       "      <th>Snowfall (cm)</th>\n",
       "      <th>WeekDay</th>\n",
       "      <th>Month</th>\n",
       "    </tr>\n",
       "  </thead>\n",
       "  <tbody>\n",
       "    <tr>\n",
       "      <th>8755</th>\n",
       "      <td>19</td>\n",
       "      <td>4.2</td>\n",
       "      <td>34</td>\n",
       "      <td>2.6</td>\n",
       "      <td>1894</td>\n",
       "      <td>0.0</td>\n",
       "      <td>0.0</td>\n",
       "      <td>0.0</td>\n",
       "      <td>5</td>\n",
       "      <td>11</td>\n",
       "    </tr>\n",
       "    <tr>\n",
       "      <th>8756</th>\n",
       "      <td>20</td>\n",
       "      <td>3.4</td>\n",
       "      <td>37</td>\n",
       "      <td>2.3</td>\n",
       "      <td>2000</td>\n",
       "      <td>0.0</td>\n",
       "      <td>0.0</td>\n",
       "      <td>0.0</td>\n",
       "      <td>5</td>\n",
       "      <td>11</td>\n",
       "    </tr>\n",
       "    <tr>\n",
       "      <th>8757</th>\n",
       "      <td>21</td>\n",
       "      <td>2.6</td>\n",
       "      <td>39</td>\n",
       "      <td>0.3</td>\n",
       "      <td>1968</td>\n",
       "      <td>0.0</td>\n",
       "      <td>0.0</td>\n",
       "      <td>0.0</td>\n",
       "      <td>5</td>\n",
       "      <td>11</td>\n",
       "    </tr>\n",
       "    <tr>\n",
       "      <th>8758</th>\n",
       "      <td>22</td>\n",
       "      <td>2.1</td>\n",
       "      <td>41</td>\n",
       "      <td>1.0</td>\n",
       "      <td>1859</td>\n",
       "      <td>0.0</td>\n",
       "      <td>0.0</td>\n",
       "      <td>0.0</td>\n",
       "      <td>5</td>\n",
       "      <td>11</td>\n",
       "    </tr>\n",
       "    <tr>\n",
       "      <th>8759</th>\n",
       "      <td>23</td>\n",
       "      <td>1.9</td>\n",
       "      <td>43</td>\n",
       "      <td>1.3</td>\n",
       "      <td>1909</td>\n",
       "      <td>0.0</td>\n",
       "      <td>0.0</td>\n",
       "      <td>0.0</td>\n",
       "      <td>5</td>\n",
       "      <td>11</td>\n",
       "    </tr>\n",
       "  </tbody>\n",
       "</table>\n",
       "</div>"
      ],
      "text/plain": [
       "      Hour  Temperature(°C)  Humidity(%)  Wind speed (m/s)  Visibility (10m)  \\\n",
       "8755    19              4.2           34               2.6              1894   \n",
       "8756    20              3.4           37               2.3              2000   \n",
       "8757    21              2.6           39               0.3              1968   \n",
       "8758    22              2.1           41               1.0              1859   \n",
       "8759    23              1.9           43               1.3              1909   \n",
       "\n",
       "      Solar Radiation (MJ/m2)  Rainfall(mm)  Snowfall (cm)  WeekDay  Month  \n",
       "8755                      0.0           0.0            0.0        5     11  \n",
       "8756                      0.0           0.0            0.0        5     11  \n",
       "8757                      0.0           0.0            0.0        5     11  \n",
       "8758                      0.0           0.0            0.0        5     11  \n",
       "8759                      0.0           0.0            0.0        5     11  "
      ]
     },
     "execution_count": 73,
     "metadata": {},
     "output_type": "execute_result"
    }
   ],
   "source": [
    "X.tail()"
   ]
  },
  {
   "cell_type": "code",
   "execution_count": 97,
   "id": "36735c19",
   "metadata": {},
   "outputs": [
    {
     "name": "stdout",
     "output_type": "stream",
     "text": [
      "[1003.]\n"
     ]
    },
    {
     "name": "stderr",
     "output_type": "stream",
     "text": [
      "C:\\Users\\Owner\\anaconda3\\lib\\site-packages\\sklearn\\base.py:450: UserWarning: X does not have valid feature names, but ExtraTreesRegressor was fitted with feature names\n",
      "  warnings.warn(\n"
     ]
    }
   ],
   "source": [
    "print(model.predict([[19,4.2,34,2.6,1894,0.0,0.0,0.0,5,11]]))\n"
   ]
  },
  {
   "cell_type": "code",
   "execution_count": null,
   "id": "b0a07f96",
   "metadata": {},
   "outputs": [],
   "source": []
  }
 ],
 "metadata": {
  "kernelspec": {
   "display_name": "Python 3 (ipykernel)",
   "language": "python",
   "name": "python3"
  },
  "language_info": {
   "codemirror_mode": {
    "name": "ipython",
    "version": 3
   },
   "file_extension": ".py",
   "mimetype": "text/x-python",
   "name": "python",
   "nbconvert_exporter": "python",
   "pygments_lexer": "ipython3",
   "version": "3.9.12"
  }
 },
 "nbformat": 4,
 "nbformat_minor": 5
}
