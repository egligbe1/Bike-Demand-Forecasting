{
 "cells": [
  {
   "cell_type": "code",
   "execution_count": 1,
   "id": "929ece58",
   "metadata": {},
   "outputs": [],
   "source": [
    "import bz2file as bz2\n",
    "import pickle"
   ]
  },
  {
   "cell_type": "code",
   "execution_count": 3,
   "id": "8591921b",
   "metadata": {},
   "outputs": [
    {
     "ename": "SyntaxError",
     "evalue": "invalid character '‘' (U+2018) (3248793338.py, line 3)",
     "output_type": "error",
     "traceback": [
      "\u001b[1;36m  Input \u001b[1;32mIn [3]\u001b[1;36m\u001b[0m\n\u001b[1;33m    with bz2.BZ2File(title + ‘.pbz2’, ‘w’) as f:\u001b[0m\n\u001b[1;37m                             ^\u001b[0m\n\u001b[1;31mSyntaxError\u001b[0m\u001b[1;31m:\u001b[0m invalid character '‘' (U+2018)\n"
     ]
    }
   ],
   "source": [
    "model = open(\"BinaryData\",'wb')\n",
    "pickle.dump(model, ofile)\n",
    "ofile.close()\n",
    " \n",
    "print(os.path.getsize(\"BinaryData\"))"
   ]
  },
  {
   "cell_type": "code",
   "execution_count": null,
   "id": "7aa4e011",
   "metadata": {},
   "outputs": [],
   "source": []
  }
 ],
 "metadata": {
  "kernelspec": {
   "display_name": "Python 3 (ipykernel)",
   "language": "python",
   "name": "python3"
  },
  "language_info": {
   "codemirror_mode": {
    "name": "ipython",
    "version": 3
   },
   "file_extension": ".py",
   "mimetype": "text/x-python",
   "name": "python",
   "nbconvert_exporter": "python",
   "pygments_lexer": "ipython3",
   "version": "3.9.12"
  }
 },
 "nbformat": 4,
 "nbformat_minor": 5
}
